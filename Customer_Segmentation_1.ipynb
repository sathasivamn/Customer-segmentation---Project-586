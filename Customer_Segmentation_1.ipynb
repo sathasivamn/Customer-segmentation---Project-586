{
 "cells": [
  {
   "cell_type": "code",
   "execution_count": 243,
   "id": "697f62ee-b84b-4f89-b464-4686064687f2",
   "metadata": {},
   "outputs": [],
   "source": [
    "import pandas as pd \n",
    "import numpy as np \n",
    "import matplotlib.pyplot as plt\n",
    "import seaborn as sns "
   ]
  },
  {
   "cell_type": "code",
   "execution_count": 244,
   "id": "81fe4f87-f508-4225-b25b-db81e36f1489",
   "metadata": {},
   "outputs": [
    {
     "data": {
      "text/html": [
       "<div>\n",
       "<style scoped>\n",
       "    .dataframe tbody tr th:only-of-type {\n",
       "        vertical-align: middle;\n",
       "    }\n",
       "\n",
       "    .dataframe tbody tr th {\n",
       "        vertical-align: top;\n",
       "    }\n",
       "\n",
       "    .dataframe thead th {\n",
       "        text-align: right;\n",
       "    }\n",
       "</style>\n",
       "<table border=\"1\" class=\"dataframe\">\n",
       "  <thead>\n",
       "    <tr style=\"text-align: right;\">\n",
       "      <th></th>\n",
       "      <th>ID</th>\n",
       "      <th>Year_Birth</th>\n",
       "      <th>Education</th>\n",
       "      <th>Marital_Status</th>\n",
       "      <th>Income</th>\n",
       "      <th>Kidhome</th>\n",
       "      <th>Teenhome</th>\n",
       "      <th>Dt_Customer</th>\n",
       "      <th>Recency</th>\n",
       "      <th>MntWines</th>\n",
       "      <th>...</th>\n",
       "      <th>NumWebVisitsMonth</th>\n",
       "      <th>AcceptedCmp3</th>\n",
       "      <th>AcceptedCmp4</th>\n",
       "      <th>AcceptedCmp5</th>\n",
       "      <th>AcceptedCmp1</th>\n",
       "      <th>AcceptedCmp2</th>\n",
       "      <th>Complain</th>\n",
       "      <th>Z_CostContact</th>\n",
       "      <th>Z_Revenue</th>\n",
       "      <th>Response</th>\n",
       "    </tr>\n",
       "  </thead>\n",
       "  <tbody>\n",
       "    <tr>\n",
       "      <th>0</th>\n",
       "      <td>5524</td>\n",
       "      <td>1957</td>\n",
       "      <td>Graduation</td>\n",
       "      <td>Single</td>\n",
       "      <td>58138.0</td>\n",
       "      <td>0</td>\n",
       "      <td>0</td>\n",
       "      <td>2012-09-04</td>\n",
       "      <td>58</td>\n",
       "      <td>635</td>\n",
       "      <td>...</td>\n",
       "      <td>7</td>\n",
       "      <td>0</td>\n",
       "      <td>0</td>\n",
       "      <td>0</td>\n",
       "      <td>0</td>\n",
       "      <td>0</td>\n",
       "      <td>0</td>\n",
       "      <td>3</td>\n",
       "      <td>11</td>\n",
       "      <td>1</td>\n",
       "    </tr>\n",
       "    <tr>\n",
       "      <th>1</th>\n",
       "      <td>2174</td>\n",
       "      <td>1954</td>\n",
       "      <td>Graduation</td>\n",
       "      <td>Single</td>\n",
       "      <td>46344.0</td>\n",
       "      <td>1</td>\n",
       "      <td>1</td>\n",
       "      <td>2014-03-08</td>\n",
       "      <td>38</td>\n",
       "      <td>11</td>\n",
       "      <td>...</td>\n",
       "      <td>5</td>\n",
       "      <td>0</td>\n",
       "      <td>0</td>\n",
       "      <td>0</td>\n",
       "      <td>0</td>\n",
       "      <td>0</td>\n",
       "      <td>0</td>\n",
       "      <td>3</td>\n",
       "      <td>11</td>\n",
       "      <td>0</td>\n",
       "    </tr>\n",
       "    <tr>\n",
       "      <th>2</th>\n",
       "      <td>4141</td>\n",
       "      <td>1965</td>\n",
       "      <td>Graduation</td>\n",
       "      <td>Together</td>\n",
       "      <td>71613.0</td>\n",
       "      <td>0</td>\n",
       "      <td>0</td>\n",
       "      <td>2013-08-21</td>\n",
       "      <td>26</td>\n",
       "      <td>426</td>\n",
       "      <td>...</td>\n",
       "      <td>4</td>\n",
       "      <td>0</td>\n",
       "      <td>0</td>\n",
       "      <td>0</td>\n",
       "      <td>0</td>\n",
       "      <td>0</td>\n",
       "      <td>0</td>\n",
       "      <td>3</td>\n",
       "      <td>11</td>\n",
       "      <td>0</td>\n",
       "    </tr>\n",
       "    <tr>\n",
       "      <th>3</th>\n",
       "      <td>6182</td>\n",
       "      <td>1984</td>\n",
       "      <td>Graduation</td>\n",
       "      <td>Together</td>\n",
       "      <td>26646.0</td>\n",
       "      <td>1</td>\n",
       "      <td>0</td>\n",
       "      <td>2014-02-10</td>\n",
       "      <td>26</td>\n",
       "      <td>11</td>\n",
       "      <td>...</td>\n",
       "      <td>6</td>\n",
       "      <td>0</td>\n",
       "      <td>0</td>\n",
       "      <td>0</td>\n",
       "      <td>0</td>\n",
       "      <td>0</td>\n",
       "      <td>0</td>\n",
       "      <td>3</td>\n",
       "      <td>11</td>\n",
       "      <td>0</td>\n",
       "    </tr>\n",
       "    <tr>\n",
       "      <th>4</th>\n",
       "      <td>5324</td>\n",
       "      <td>1981</td>\n",
       "      <td>PhD</td>\n",
       "      <td>Married</td>\n",
       "      <td>58293.0</td>\n",
       "      <td>1</td>\n",
       "      <td>0</td>\n",
       "      <td>2014-01-19</td>\n",
       "      <td>94</td>\n",
       "      <td>173</td>\n",
       "      <td>...</td>\n",
       "      <td>5</td>\n",
       "      <td>0</td>\n",
       "      <td>0</td>\n",
       "      <td>0</td>\n",
       "      <td>0</td>\n",
       "      <td>0</td>\n",
       "      <td>0</td>\n",
       "      <td>3</td>\n",
       "      <td>11</td>\n",
       "      <td>0</td>\n",
       "    </tr>\n",
       "    <tr>\n",
       "      <th>...</th>\n",
       "      <td>...</td>\n",
       "      <td>...</td>\n",
       "      <td>...</td>\n",
       "      <td>...</td>\n",
       "      <td>...</td>\n",
       "      <td>...</td>\n",
       "      <td>...</td>\n",
       "      <td>...</td>\n",
       "      <td>...</td>\n",
       "      <td>...</td>\n",
       "      <td>...</td>\n",
       "      <td>...</td>\n",
       "      <td>...</td>\n",
       "      <td>...</td>\n",
       "      <td>...</td>\n",
       "      <td>...</td>\n",
       "      <td>...</td>\n",
       "      <td>...</td>\n",
       "      <td>...</td>\n",
       "      <td>...</td>\n",
       "      <td>...</td>\n",
       "    </tr>\n",
       "    <tr>\n",
       "      <th>2235</th>\n",
       "      <td>10870</td>\n",
       "      <td>1967</td>\n",
       "      <td>Graduation</td>\n",
       "      <td>Married</td>\n",
       "      <td>61223.0</td>\n",
       "      <td>0</td>\n",
       "      <td>1</td>\n",
       "      <td>2013-06-13</td>\n",
       "      <td>46</td>\n",
       "      <td>709</td>\n",
       "      <td>...</td>\n",
       "      <td>5</td>\n",
       "      <td>0</td>\n",
       "      <td>0</td>\n",
       "      <td>0</td>\n",
       "      <td>0</td>\n",
       "      <td>0</td>\n",
       "      <td>0</td>\n",
       "      <td>3</td>\n",
       "      <td>11</td>\n",
       "      <td>0</td>\n",
       "    </tr>\n",
       "    <tr>\n",
       "      <th>2236</th>\n",
       "      <td>4001</td>\n",
       "      <td>1946</td>\n",
       "      <td>PhD</td>\n",
       "      <td>Together</td>\n",
       "      <td>64014.0</td>\n",
       "      <td>2</td>\n",
       "      <td>1</td>\n",
       "      <td>2014-06-10</td>\n",
       "      <td>56</td>\n",
       "      <td>406</td>\n",
       "      <td>...</td>\n",
       "      <td>7</td>\n",
       "      <td>0</td>\n",
       "      <td>0</td>\n",
       "      <td>0</td>\n",
       "      <td>1</td>\n",
       "      <td>0</td>\n",
       "      <td>0</td>\n",
       "      <td>3</td>\n",
       "      <td>11</td>\n",
       "      <td>0</td>\n",
       "    </tr>\n",
       "    <tr>\n",
       "      <th>2237</th>\n",
       "      <td>7270</td>\n",
       "      <td>1981</td>\n",
       "      <td>Graduation</td>\n",
       "      <td>Divorced</td>\n",
       "      <td>56981.0</td>\n",
       "      <td>0</td>\n",
       "      <td>0</td>\n",
       "      <td>2014-01-25</td>\n",
       "      <td>91</td>\n",
       "      <td>908</td>\n",
       "      <td>...</td>\n",
       "      <td>6</td>\n",
       "      <td>0</td>\n",
       "      <td>1</td>\n",
       "      <td>0</td>\n",
       "      <td>0</td>\n",
       "      <td>0</td>\n",
       "      <td>0</td>\n",
       "      <td>3</td>\n",
       "      <td>11</td>\n",
       "      <td>0</td>\n",
       "    </tr>\n",
       "    <tr>\n",
       "      <th>2238</th>\n",
       "      <td>8235</td>\n",
       "      <td>1956</td>\n",
       "      <td>Master</td>\n",
       "      <td>Together</td>\n",
       "      <td>69245.0</td>\n",
       "      <td>0</td>\n",
       "      <td>1</td>\n",
       "      <td>2014-01-24</td>\n",
       "      <td>8</td>\n",
       "      <td>428</td>\n",
       "      <td>...</td>\n",
       "      <td>3</td>\n",
       "      <td>0</td>\n",
       "      <td>0</td>\n",
       "      <td>0</td>\n",
       "      <td>0</td>\n",
       "      <td>0</td>\n",
       "      <td>0</td>\n",
       "      <td>3</td>\n",
       "      <td>11</td>\n",
       "      <td>0</td>\n",
       "    </tr>\n",
       "    <tr>\n",
       "      <th>2239</th>\n",
       "      <td>9405</td>\n",
       "      <td>1954</td>\n",
       "      <td>PhD</td>\n",
       "      <td>Married</td>\n",
       "      <td>52869.0</td>\n",
       "      <td>1</td>\n",
       "      <td>1</td>\n",
       "      <td>2012-10-15</td>\n",
       "      <td>40</td>\n",
       "      <td>84</td>\n",
       "      <td>...</td>\n",
       "      <td>7</td>\n",
       "      <td>0</td>\n",
       "      <td>0</td>\n",
       "      <td>0</td>\n",
       "      <td>0</td>\n",
       "      <td>0</td>\n",
       "      <td>0</td>\n",
       "      <td>3</td>\n",
       "      <td>11</td>\n",
       "      <td>1</td>\n",
       "    </tr>\n",
       "  </tbody>\n",
       "</table>\n",
       "<p>2240 rows × 29 columns</p>\n",
       "</div>"
      ],
      "text/plain": [
       "         ID  Year_Birth   Education Marital_Status   Income  Kidhome  \\\n",
       "0      5524        1957  Graduation         Single  58138.0        0   \n",
       "1      2174        1954  Graduation         Single  46344.0        1   \n",
       "2      4141        1965  Graduation       Together  71613.0        0   \n",
       "3      6182        1984  Graduation       Together  26646.0        1   \n",
       "4      5324        1981         PhD        Married  58293.0        1   \n",
       "...     ...         ...         ...            ...      ...      ...   \n",
       "2235  10870        1967  Graduation        Married  61223.0        0   \n",
       "2236   4001        1946         PhD       Together  64014.0        2   \n",
       "2237   7270        1981  Graduation       Divorced  56981.0        0   \n",
       "2238   8235        1956      Master       Together  69245.0        0   \n",
       "2239   9405        1954         PhD        Married  52869.0        1   \n",
       "\n",
       "      Teenhome Dt_Customer  Recency  MntWines  ...  NumWebVisitsMonth  \\\n",
       "0            0  2012-09-04       58       635  ...                  7   \n",
       "1            1  2014-03-08       38        11  ...                  5   \n",
       "2            0  2013-08-21       26       426  ...                  4   \n",
       "3            0  2014-02-10       26        11  ...                  6   \n",
       "4            0  2014-01-19       94       173  ...                  5   \n",
       "...        ...         ...      ...       ...  ...                ...   \n",
       "2235         1  2013-06-13       46       709  ...                  5   \n",
       "2236         1  2014-06-10       56       406  ...                  7   \n",
       "2237         0  2014-01-25       91       908  ...                  6   \n",
       "2238         1  2014-01-24        8       428  ...                  3   \n",
       "2239         1  2012-10-15       40        84  ...                  7   \n",
       "\n",
       "      AcceptedCmp3  AcceptedCmp4  AcceptedCmp5  AcceptedCmp1  AcceptedCmp2  \\\n",
       "0                0             0             0             0             0   \n",
       "1                0             0             0             0             0   \n",
       "2                0             0             0             0             0   \n",
       "3                0             0             0             0             0   \n",
       "4                0             0             0             0             0   \n",
       "...            ...           ...           ...           ...           ...   \n",
       "2235             0             0             0             0             0   \n",
       "2236             0             0             0             1             0   \n",
       "2237             0             1             0             0             0   \n",
       "2238             0             0             0             0             0   \n",
       "2239             0             0             0             0             0   \n",
       "\n",
       "      Complain  Z_CostContact  Z_Revenue  Response  \n",
       "0            0              3         11         1  \n",
       "1            0              3         11         0  \n",
       "2            0              3         11         0  \n",
       "3            0              3         11         0  \n",
       "4            0              3         11         0  \n",
       "...        ...            ...        ...       ...  \n",
       "2235         0              3         11         0  \n",
       "2236         0              3         11         0  \n",
       "2237         0              3         11         0  \n",
       "2238         0              3         11         0  \n",
       "2239         0              3         11         1  \n",
       "\n",
       "[2240 rows x 29 columns]"
      ]
     },
     "execution_count": 244,
     "metadata": {},
     "output_type": "execute_result"
    }
   ],
   "source": [
    "df = pd.read_excel(r\"C:\\Users\\SHEBAZ SHAIKH\\Downloads\\Project--3\\Custemor_Segmentation\\data\\marketing_campaign.xlsx\")\n",
    "df"
   ]
  },
  {
   "cell_type": "code",
   "execution_count": 245,
   "id": "4ec5a80d-55e6-4e8b-87ae-6b32808464f6",
   "metadata": {},
   "outputs": [
    {
     "data": {
      "text/html": [
       "<div>\n",
       "<style scoped>\n",
       "    .dataframe tbody tr th:only-of-type {\n",
       "        vertical-align: middle;\n",
       "    }\n",
       "\n",
       "    .dataframe tbody tr th {\n",
       "        vertical-align: top;\n",
       "    }\n",
       "\n",
       "    .dataframe thead th {\n",
       "        text-align: right;\n",
       "    }\n",
       "</style>\n",
       "<table border=\"1\" class=\"dataframe\">\n",
       "  <thead>\n",
       "    <tr style=\"text-align: right;\">\n",
       "      <th></th>\n",
       "      <th>ID</th>\n",
       "      <th>Year_Birth</th>\n",
       "      <th>Education</th>\n",
       "      <th>Marital_Status</th>\n",
       "      <th>Income</th>\n",
       "      <th>Kidhome</th>\n",
       "      <th>Teenhome</th>\n",
       "      <th>Dt_Customer</th>\n",
       "      <th>Recency</th>\n",
       "      <th>MntWines</th>\n",
       "      <th>...</th>\n",
       "      <th>NumWebVisitsMonth</th>\n",
       "      <th>AcceptedCmp3</th>\n",
       "      <th>AcceptedCmp4</th>\n",
       "      <th>AcceptedCmp5</th>\n",
       "      <th>AcceptedCmp1</th>\n",
       "      <th>AcceptedCmp2</th>\n",
       "      <th>Complain</th>\n",
       "      <th>Z_CostContact</th>\n",
       "      <th>Z_Revenue</th>\n",
       "      <th>Response</th>\n",
       "    </tr>\n",
       "  </thead>\n",
       "  <tbody>\n",
       "    <tr>\n",
       "      <th>0</th>\n",
       "      <td>5524</td>\n",
       "      <td>1957</td>\n",
       "      <td>Graduation</td>\n",
       "      <td>Single</td>\n",
       "      <td>58138.0</td>\n",
       "      <td>0</td>\n",
       "      <td>0</td>\n",
       "      <td>2012-09-04</td>\n",
       "      <td>58</td>\n",
       "      <td>635</td>\n",
       "      <td>...</td>\n",
       "      <td>7</td>\n",
       "      <td>0</td>\n",
       "      <td>0</td>\n",
       "      <td>0</td>\n",
       "      <td>0</td>\n",
       "      <td>0</td>\n",
       "      <td>0</td>\n",
       "      <td>3</td>\n",
       "      <td>11</td>\n",
       "      <td>1</td>\n",
       "    </tr>\n",
       "    <tr>\n",
       "      <th>1</th>\n",
       "      <td>2174</td>\n",
       "      <td>1954</td>\n",
       "      <td>Graduation</td>\n",
       "      <td>Single</td>\n",
       "      <td>46344.0</td>\n",
       "      <td>1</td>\n",
       "      <td>1</td>\n",
       "      <td>2014-03-08</td>\n",
       "      <td>38</td>\n",
       "      <td>11</td>\n",
       "      <td>...</td>\n",
       "      <td>5</td>\n",
       "      <td>0</td>\n",
       "      <td>0</td>\n",
       "      <td>0</td>\n",
       "      <td>0</td>\n",
       "      <td>0</td>\n",
       "      <td>0</td>\n",
       "      <td>3</td>\n",
       "      <td>11</td>\n",
       "      <td>0</td>\n",
       "    </tr>\n",
       "    <tr>\n",
       "      <th>2</th>\n",
       "      <td>4141</td>\n",
       "      <td>1965</td>\n",
       "      <td>Graduation</td>\n",
       "      <td>Together</td>\n",
       "      <td>71613.0</td>\n",
       "      <td>0</td>\n",
       "      <td>0</td>\n",
       "      <td>2013-08-21</td>\n",
       "      <td>26</td>\n",
       "      <td>426</td>\n",
       "      <td>...</td>\n",
       "      <td>4</td>\n",
       "      <td>0</td>\n",
       "      <td>0</td>\n",
       "      <td>0</td>\n",
       "      <td>0</td>\n",
       "      <td>0</td>\n",
       "      <td>0</td>\n",
       "      <td>3</td>\n",
       "      <td>11</td>\n",
       "      <td>0</td>\n",
       "    </tr>\n",
       "    <tr>\n",
       "      <th>3</th>\n",
       "      <td>6182</td>\n",
       "      <td>1984</td>\n",
       "      <td>Graduation</td>\n",
       "      <td>Together</td>\n",
       "      <td>26646.0</td>\n",
       "      <td>1</td>\n",
       "      <td>0</td>\n",
       "      <td>2014-02-10</td>\n",
       "      <td>26</td>\n",
       "      <td>11</td>\n",
       "      <td>...</td>\n",
       "      <td>6</td>\n",
       "      <td>0</td>\n",
       "      <td>0</td>\n",
       "      <td>0</td>\n",
       "      <td>0</td>\n",
       "      <td>0</td>\n",
       "      <td>0</td>\n",
       "      <td>3</td>\n",
       "      <td>11</td>\n",
       "      <td>0</td>\n",
       "    </tr>\n",
       "    <tr>\n",
       "      <th>4</th>\n",
       "      <td>5324</td>\n",
       "      <td>1981</td>\n",
       "      <td>PhD</td>\n",
       "      <td>Married</td>\n",
       "      <td>58293.0</td>\n",
       "      <td>1</td>\n",
       "      <td>0</td>\n",
       "      <td>2014-01-19</td>\n",
       "      <td>94</td>\n",
       "      <td>173</td>\n",
       "      <td>...</td>\n",
       "      <td>5</td>\n",
       "      <td>0</td>\n",
       "      <td>0</td>\n",
       "      <td>0</td>\n",
       "      <td>0</td>\n",
       "      <td>0</td>\n",
       "      <td>0</td>\n",
       "      <td>3</td>\n",
       "      <td>11</td>\n",
       "      <td>0</td>\n",
       "    </tr>\n",
       "  </tbody>\n",
       "</table>\n",
       "<p>5 rows × 29 columns</p>\n",
       "</div>"
      ],
      "text/plain": [
       "     ID  Year_Birth   Education Marital_Status   Income  Kidhome  Teenhome  \\\n",
       "0  5524        1957  Graduation         Single  58138.0        0         0   \n",
       "1  2174        1954  Graduation         Single  46344.0        1         1   \n",
       "2  4141        1965  Graduation       Together  71613.0        0         0   \n",
       "3  6182        1984  Graduation       Together  26646.0        1         0   \n",
       "4  5324        1981         PhD        Married  58293.0        1         0   \n",
       "\n",
       "  Dt_Customer  Recency  MntWines  ...  NumWebVisitsMonth  AcceptedCmp3  \\\n",
       "0  2012-09-04       58       635  ...                  7             0   \n",
       "1  2014-03-08       38        11  ...                  5             0   \n",
       "2  2013-08-21       26       426  ...                  4             0   \n",
       "3  2014-02-10       26        11  ...                  6             0   \n",
       "4  2014-01-19       94       173  ...                  5             0   \n",
       "\n",
       "   AcceptedCmp4  AcceptedCmp5  AcceptedCmp1  AcceptedCmp2  Complain  \\\n",
       "0             0             0             0             0         0   \n",
       "1             0             0             0             0         0   \n",
       "2             0             0             0             0         0   \n",
       "3             0             0             0             0         0   \n",
       "4             0             0             0             0         0   \n",
       "\n",
       "   Z_CostContact  Z_Revenue  Response  \n",
       "0              3         11         1  \n",
       "1              3         11         0  \n",
       "2              3         11         0  \n",
       "3              3         11         0  \n",
       "4              3         11         0  \n",
       "\n",
       "[5 rows x 29 columns]"
      ]
     },
     "execution_count": 245,
     "metadata": {},
     "output_type": "execute_result"
    }
   ],
   "source": [
    "df.head()"
   ]
  },
  {
   "cell_type": "code",
   "execution_count": 246,
   "id": "e418798d-0233-4a65-9ec2-72d1e6e93c99",
   "metadata": {},
   "outputs": [
    {
     "data": {
      "text/plain": [
       "Index(['ID', 'Year_Birth', 'Education', 'Marital_Status', 'Income', 'Kidhome',\n",
       "       'Teenhome', 'Dt_Customer', 'Recency', 'MntWines', 'MntFruits',\n",
       "       'MntMeatProducts', 'MntFishProducts', 'MntSweetProducts',\n",
       "       'MntGoldProds', 'NumDealsPurchases', 'NumWebPurchases',\n",
       "       'NumCatalogPurchases', 'NumStorePurchases', 'NumWebVisitsMonth',\n",
       "       'AcceptedCmp3', 'AcceptedCmp4', 'AcceptedCmp5', 'AcceptedCmp1',\n",
       "       'AcceptedCmp2', 'Complain', 'Z_CostContact', 'Z_Revenue', 'Response'],\n",
       "      dtype='object')"
      ]
     },
     "execution_count": 246,
     "metadata": {},
     "output_type": "execute_result"
    }
   ],
   "source": [
    "df.columns"
   ]
  },
  {
   "cell_type": "code",
   "execution_count": 247,
   "id": "224b9520-9f8f-4ff6-90d2-355153c84e38",
   "metadata": {},
   "outputs": [
    {
     "data": {
      "text/plain": [
       "(2240, 29)"
      ]
     },
     "execution_count": 247,
     "metadata": {},
     "output_type": "execute_result"
    }
   ],
   "source": [
    "df.shape"
   ]
  },
  {
   "cell_type": "code",
   "execution_count": 248,
   "id": "9c59e8a0-8d33-4792-b4dc-cf6da3acb693",
   "metadata": {},
   "outputs": [
    {
     "name": "stdout",
     "output_type": "stream",
     "text": [
      "<class 'pandas.core.frame.DataFrame'>\n",
      "RangeIndex: 2240 entries, 0 to 2239\n",
      "Data columns (total 29 columns):\n",
      " #   Column               Non-Null Count  Dtype         \n",
      "---  ------               --------------  -----         \n",
      " 0   ID                   2240 non-null   int64         \n",
      " 1   Year_Birth           2240 non-null   int64         \n",
      " 2   Education            2240 non-null   object        \n",
      " 3   Marital_Status       2240 non-null   object        \n",
      " 4   Income               2216 non-null   float64       \n",
      " 5   Kidhome              2240 non-null   int64         \n",
      " 6   Teenhome             2240 non-null   int64         \n",
      " 7   Dt_Customer          2240 non-null   datetime64[ns]\n",
      " 8   Recency              2240 non-null   int64         \n",
      " 9   MntWines             2240 non-null   int64         \n",
      " 10  MntFruits            2240 non-null   int64         \n",
      " 11  MntMeatProducts      2240 non-null   int64         \n",
      " 12  MntFishProducts      2240 non-null   int64         \n",
      " 13  MntSweetProducts     2240 non-null   int64         \n",
      " 14  MntGoldProds         2240 non-null   int64         \n",
      " 15  NumDealsPurchases    2240 non-null   int64         \n",
      " 16  NumWebPurchases      2240 non-null   int64         \n",
      " 17  NumCatalogPurchases  2240 non-null   int64         \n",
      " 18  NumStorePurchases    2240 non-null   int64         \n",
      " 19  NumWebVisitsMonth    2240 non-null   int64         \n",
      " 20  AcceptedCmp3         2240 non-null   int64         \n",
      " 21  AcceptedCmp4         2240 non-null   int64         \n",
      " 22  AcceptedCmp5         2240 non-null   int64         \n",
      " 23  AcceptedCmp1         2240 non-null   int64         \n",
      " 24  AcceptedCmp2         2240 non-null   int64         \n",
      " 25  Complain             2240 non-null   int64         \n",
      " 26  Z_CostContact        2240 non-null   int64         \n",
      " 27  Z_Revenue            2240 non-null   int64         \n",
      " 28  Response             2240 non-null   int64         \n",
      "dtypes: datetime64[ns](1), float64(1), int64(25), object(2)\n",
      "memory usage: 507.6+ KB\n"
     ]
    }
   ],
   "source": [
    "df.info()"
   ]
  },
  {
   "cell_type": "code",
   "execution_count": 249,
   "id": "18782901-0265-4963-9081-a5a0b63ca265",
   "metadata": {},
   "outputs": [
    {
     "data": {
      "text/plain": [
       "ID                      0\n",
       "Year_Birth              0\n",
       "Education               0\n",
       "Marital_Status          0\n",
       "Income                 24\n",
       "Kidhome                 0\n",
       "Teenhome                0\n",
       "Dt_Customer             0\n",
       "Recency                 0\n",
       "MntWines                0\n",
       "MntFruits               0\n",
       "MntMeatProducts         0\n",
       "MntFishProducts         0\n",
       "MntSweetProducts        0\n",
       "MntGoldProds            0\n",
       "NumDealsPurchases       0\n",
       "NumWebPurchases         0\n",
       "NumCatalogPurchases     0\n",
       "NumStorePurchases       0\n",
       "NumWebVisitsMonth       0\n",
       "AcceptedCmp3            0\n",
       "AcceptedCmp4            0\n",
       "AcceptedCmp5            0\n",
       "AcceptedCmp1            0\n",
       "AcceptedCmp2            0\n",
       "Complain                0\n",
       "Z_CostContact           0\n",
       "Z_Revenue               0\n",
       "Response                0\n",
       "dtype: int64"
      ]
     },
     "execution_count": 249,
     "metadata": {},
     "output_type": "execute_result"
    }
   ],
   "source": [
    "df.isna().sum()"
   ]
  },
  {
   "cell_type": "code",
   "execution_count": 250,
   "id": "6e31245b-8d3d-4d39-b442-60bb65e8c35c",
   "metadata": {},
   "outputs": [
    {
     "data": {
      "text/plain": [
       "np.int64(24)"
      ]
     },
     "execution_count": 250,
     "metadata": {},
     "output_type": "execute_result"
    }
   ],
   "source": [
    "df.isna().sum().sum()"
   ]
  },
  {
   "cell_type": "code",
   "execution_count": 251,
   "id": "2f55c69b-6aca-45b3-b1b1-82174fe3efb6",
   "metadata": {},
   "outputs": [],
   "source": [
    "df.dropna(inplace=True)"
   ]
  },
  {
   "cell_type": "code",
   "execution_count": 252,
   "id": "0f1ca3a3-5e29-48e2-a4ea-726b9407b7b7",
   "metadata": {},
   "outputs": [
    {
     "data": {
      "text/plain": [
       "np.int64(0)"
      ]
     },
     "execution_count": 252,
     "metadata": {},
     "output_type": "execute_result"
    }
   ],
   "source": [
    "df.isna().sum().sum()"
   ]
  },
  {
   "cell_type": "code",
   "execution_count": 253,
   "id": "b57b6dc9-a57b-4d26-8f46-6aa3fee664a6",
   "metadata": {},
   "outputs": [
    {
     "data": {
      "text/html": [
       "<div>\n",
       "<style scoped>\n",
       "    .dataframe tbody tr th:only-of-type {\n",
       "        vertical-align: middle;\n",
       "    }\n",
       "\n",
       "    .dataframe tbody tr th {\n",
       "        vertical-align: top;\n",
       "    }\n",
       "\n",
       "    .dataframe thead th {\n",
       "        text-align: right;\n",
       "    }\n",
       "</style>\n",
       "<table border=\"1\" class=\"dataframe\">\n",
       "  <thead>\n",
       "    <tr style=\"text-align: right;\">\n",
       "      <th></th>\n",
       "      <th>ID</th>\n",
       "      <th>Year_Birth</th>\n",
       "      <th>Income</th>\n",
       "      <th>Kidhome</th>\n",
       "      <th>Teenhome</th>\n",
       "      <th>Dt_Customer</th>\n",
       "      <th>Recency</th>\n",
       "      <th>MntWines</th>\n",
       "      <th>MntFruits</th>\n",
       "      <th>MntMeatProducts</th>\n",
       "      <th>...</th>\n",
       "      <th>NumWebVisitsMonth</th>\n",
       "      <th>AcceptedCmp3</th>\n",
       "      <th>AcceptedCmp4</th>\n",
       "      <th>AcceptedCmp5</th>\n",
       "      <th>AcceptedCmp1</th>\n",
       "      <th>AcceptedCmp2</th>\n",
       "      <th>Complain</th>\n",
       "      <th>Z_CostContact</th>\n",
       "      <th>Z_Revenue</th>\n",
       "      <th>Response</th>\n",
       "    </tr>\n",
       "  </thead>\n",
       "  <tbody>\n",
       "    <tr>\n",
       "      <th>count</th>\n",
       "      <td>2216.000000</td>\n",
       "      <td>2216.000000</td>\n",
       "      <td>2216.000000</td>\n",
       "      <td>2216.000000</td>\n",
       "      <td>2216.000000</td>\n",
       "      <td>2216</td>\n",
       "      <td>2216.000000</td>\n",
       "      <td>2216.000000</td>\n",
       "      <td>2216.000000</td>\n",
       "      <td>2216.000000</td>\n",
       "      <td>...</td>\n",
       "      <td>2216.000000</td>\n",
       "      <td>2216.000000</td>\n",
       "      <td>2216.000000</td>\n",
       "      <td>2216.000000</td>\n",
       "      <td>2216.000000</td>\n",
       "      <td>2216.000000</td>\n",
       "      <td>2216.000000</td>\n",
       "      <td>2216.0</td>\n",
       "      <td>2216.0</td>\n",
       "      <td>2216.000000</td>\n",
       "    </tr>\n",
       "    <tr>\n",
       "      <th>mean</th>\n",
       "      <td>5588.353339</td>\n",
       "      <td>1968.820397</td>\n",
       "      <td>52247.251354</td>\n",
       "      <td>0.441787</td>\n",
       "      <td>0.505415</td>\n",
       "      <td>2013-07-10 11:29:27.509025280</td>\n",
       "      <td>49.012635</td>\n",
       "      <td>305.091606</td>\n",
       "      <td>26.356047</td>\n",
       "      <td>166.995939</td>\n",
       "      <td>...</td>\n",
       "      <td>5.319043</td>\n",
       "      <td>0.073556</td>\n",
       "      <td>0.074007</td>\n",
       "      <td>0.073105</td>\n",
       "      <td>0.064079</td>\n",
       "      <td>0.013538</td>\n",
       "      <td>0.009477</td>\n",
       "      <td>3.0</td>\n",
       "      <td>11.0</td>\n",
       "      <td>0.150271</td>\n",
       "    </tr>\n",
       "    <tr>\n",
       "      <th>min</th>\n",
       "      <td>0.000000</td>\n",
       "      <td>1893.000000</td>\n",
       "      <td>1730.000000</td>\n",
       "      <td>0.000000</td>\n",
       "      <td>0.000000</td>\n",
       "      <td>2012-07-30 00:00:00</td>\n",
       "      <td>0.000000</td>\n",
       "      <td>0.000000</td>\n",
       "      <td>0.000000</td>\n",
       "      <td>0.000000</td>\n",
       "      <td>...</td>\n",
       "      <td>0.000000</td>\n",
       "      <td>0.000000</td>\n",
       "      <td>0.000000</td>\n",
       "      <td>0.000000</td>\n",
       "      <td>0.000000</td>\n",
       "      <td>0.000000</td>\n",
       "      <td>0.000000</td>\n",
       "      <td>3.0</td>\n",
       "      <td>11.0</td>\n",
       "      <td>0.000000</td>\n",
       "    </tr>\n",
       "    <tr>\n",
       "      <th>25%</th>\n",
       "      <td>2814.750000</td>\n",
       "      <td>1959.000000</td>\n",
       "      <td>35303.000000</td>\n",
       "      <td>0.000000</td>\n",
       "      <td>0.000000</td>\n",
       "      <td>2013-01-16 00:00:00</td>\n",
       "      <td>24.000000</td>\n",
       "      <td>24.000000</td>\n",
       "      <td>2.000000</td>\n",
       "      <td>16.000000</td>\n",
       "      <td>...</td>\n",
       "      <td>3.000000</td>\n",
       "      <td>0.000000</td>\n",
       "      <td>0.000000</td>\n",
       "      <td>0.000000</td>\n",
       "      <td>0.000000</td>\n",
       "      <td>0.000000</td>\n",
       "      <td>0.000000</td>\n",
       "      <td>3.0</td>\n",
       "      <td>11.0</td>\n",
       "      <td>0.000000</td>\n",
       "    </tr>\n",
       "    <tr>\n",
       "      <th>50%</th>\n",
       "      <td>5458.500000</td>\n",
       "      <td>1970.000000</td>\n",
       "      <td>51381.500000</td>\n",
       "      <td>0.000000</td>\n",
       "      <td>0.000000</td>\n",
       "      <td>2013-07-08 12:00:00</td>\n",
       "      <td>49.000000</td>\n",
       "      <td>174.500000</td>\n",
       "      <td>8.000000</td>\n",
       "      <td>68.000000</td>\n",
       "      <td>...</td>\n",
       "      <td>6.000000</td>\n",
       "      <td>0.000000</td>\n",
       "      <td>0.000000</td>\n",
       "      <td>0.000000</td>\n",
       "      <td>0.000000</td>\n",
       "      <td>0.000000</td>\n",
       "      <td>0.000000</td>\n",
       "      <td>3.0</td>\n",
       "      <td>11.0</td>\n",
       "      <td>0.000000</td>\n",
       "    </tr>\n",
       "    <tr>\n",
       "      <th>75%</th>\n",
       "      <td>8421.750000</td>\n",
       "      <td>1977.000000</td>\n",
       "      <td>68522.000000</td>\n",
       "      <td>1.000000</td>\n",
       "      <td>1.000000</td>\n",
       "      <td>2013-12-31 00:00:00</td>\n",
       "      <td>74.000000</td>\n",
       "      <td>505.000000</td>\n",
       "      <td>33.000000</td>\n",
       "      <td>232.250000</td>\n",
       "      <td>...</td>\n",
       "      <td>7.000000</td>\n",
       "      <td>0.000000</td>\n",
       "      <td>0.000000</td>\n",
       "      <td>0.000000</td>\n",
       "      <td>0.000000</td>\n",
       "      <td>0.000000</td>\n",
       "      <td>0.000000</td>\n",
       "      <td>3.0</td>\n",
       "      <td>11.0</td>\n",
       "      <td>0.000000</td>\n",
       "    </tr>\n",
       "    <tr>\n",
       "      <th>max</th>\n",
       "      <td>11191.000000</td>\n",
       "      <td>1996.000000</td>\n",
       "      <td>666666.000000</td>\n",
       "      <td>2.000000</td>\n",
       "      <td>2.000000</td>\n",
       "      <td>2014-06-29 00:00:00</td>\n",
       "      <td>99.000000</td>\n",
       "      <td>1493.000000</td>\n",
       "      <td>199.000000</td>\n",
       "      <td>1725.000000</td>\n",
       "      <td>...</td>\n",
       "      <td>20.000000</td>\n",
       "      <td>1.000000</td>\n",
       "      <td>1.000000</td>\n",
       "      <td>1.000000</td>\n",
       "      <td>1.000000</td>\n",
       "      <td>1.000000</td>\n",
       "      <td>1.000000</td>\n",
       "      <td>3.0</td>\n",
       "      <td>11.0</td>\n",
       "      <td>1.000000</td>\n",
       "    </tr>\n",
       "    <tr>\n",
       "      <th>std</th>\n",
       "      <td>3249.376275</td>\n",
       "      <td>11.985554</td>\n",
       "      <td>25173.076661</td>\n",
       "      <td>0.536896</td>\n",
       "      <td>0.544181</td>\n",
       "      <td>NaN</td>\n",
       "      <td>28.948352</td>\n",
       "      <td>337.327920</td>\n",
       "      <td>39.793917</td>\n",
       "      <td>224.283273</td>\n",
       "      <td>...</td>\n",
       "      <td>2.425359</td>\n",
       "      <td>0.261106</td>\n",
       "      <td>0.261842</td>\n",
       "      <td>0.260367</td>\n",
       "      <td>0.244950</td>\n",
       "      <td>0.115588</td>\n",
       "      <td>0.096907</td>\n",
       "      <td>0.0</td>\n",
       "      <td>0.0</td>\n",
       "      <td>0.357417</td>\n",
       "    </tr>\n",
       "  </tbody>\n",
       "</table>\n",
       "<p>8 rows × 27 columns</p>\n",
       "</div>"
      ],
      "text/plain": [
       "                 ID   Year_Birth         Income      Kidhome     Teenhome  \\\n",
       "count   2216.000000  2216.000000    2216.000000  2216.000000  2216.000000   \n",
       "mean    5588.353339  1968.820397   52247.251354     0.441787     0.505415   \n",
       "min        0.000000  1893.000000    1730.000000     0.000000     0.000000   \n",
       "25%     2814.750000  1959.000000   35303.000000     0.000000     0.000000   \n",
       "50%     5458.500000  1970.000000   51381.500000     0.000000     0.000000   \n",
       "75%     8421.750000  1977.000000   68522.000000     1.000000     1.000000   \n",
       "max    11191.000000  1996.000000  666666.000000     2.000000     2.000000   \n",
       "std     3249.376275    11.985554   25173.076661     0.536896     0.544181   \n",
       "\n",
       "                         Dt_Customer      Recency     MntWines    MntFruits  \\\n",
       "count                           2216  2216.000000  2216.000000  2216.000000   \n",
       "mean   2013-07-10 11:29:27.509025280    49.012635   305.091606    26.356047   \n",
       "min              2012-07-30 00:00:00     0.000000     0.000000     0.000000   \n",
       "25%              2013-01-16 00:00:00    24.000000    24.000000     2.000000   \n",
       "50%              2013-07-08 12:00:00    49.000000   174.500000     8.000000   \n",
       "75%              2013-12-31 00:00:00    74.000000   505.000000    33.000000   \n",
       "max              2014-06-29 00:00:00    99.000000  1493.000000   199.000000   \n",
       "std                              NaN    28.948352   337.327920    39.793917   \n",
       "\n",
       "       MntMeatProducts  ...  NumWebVisitsMonth  AcceptedCmp3  AcceptedCmp4  \\\n",
       "count      2216.000000  ...        2216.000000   2216.000000   2216.000000   \n",
       "mean        166.995939  ...           5.319043      0.073556      0.074007   \n",
       "min           0.000000  ...           0.000000      0.000000      0.000000   \n",
       "25%          16.000000  ...           3.000000      0.000000      0.000000   \n",
       "50%          68.000000  ...           6.000000      0.000000      0.000000   \n",
       "75%         232.250000  ...           7.000000      0.000000      0.000000   \n",
       "max        1725.000000  ...          20.000000      1.000000      1.000000   \n",
       "std         224.283273  ...           2.425359      0.261106      0.261842   \n",
       "\n",
       "       AcceptedCmp5  AcceptedCmp1  AcceptedCmp2     Complain  Z_CostContact  \\\n",
       "count   2216.000000   2216.000000   2216.000000  2216.000000         2216.0   \n",
       "mean       0.073105      0.064079      0.013538     0.009477            3.0   \n",
       "min        0.000000      0.000000      0.000000     0.000000            3.0   \n",
       "25%        0.000000      0.000000      0.000000     0.000000            3.0   \n",
       "50%        0.000000      0.000000      0.000000     0.000000            3.0   \n",
       "75%        0.000000      0.000000      0.000000     0.000000            3.0   \n",
       "max        1.000000      1.000000      1.000000     1.000000            3.0   \n",
       "std        0.260367      0.244950      0.115588     0.096907            0.0   \n",
       "\n",
       "       Z_Revenue     Response  \n",
       "count     2216.0  2216.000000  \n",
       "mean        11.0     0.150271  \n",
       "min         11.0     0.000000  \n",
       "25%         11.0     0.000000  \n",
       "50%         11.0     0.000000  \n",
       "75%         11.0     0.000000  \n",
       "max         11.0     1.000000  \n",
       "std          0.0     0.357417  \n",
       "\n",
       "[8 rows x 27 columns]"
      ]
     },
     "execution_count": 253,
     "metadata": {},
     "output_type": "execute_result"
    }
   ],
   "source": [
    "df.describe()"
   ]
  },
  {
   "cell_type": "code",
   "execution_count": 254,
   "id": "172c3380-6239-4bc7-b332-8c6fd40e8ad7",
   "metadata": {},
   "outputs": [
    {
     "data": {
      "text/plain": [
       "Education\n",
       "Graduation    1116\n",
       "PhD            481\n",
       "Master         365\n",
       "2n Cycle       200\n",
       "Basic           54\n",
       "Name: count, dtype: int64"
      ]
     },
     "execution_count": 254,
     "metadata": {},
     "output_type": "execute_result"
    }
   ],
   "source": [
    "df['Education'].value_counts()"
   ]
  },
  {
   "cell_type": "code",
   "execution_count": 255,
   "id": "203c4dae-2d5f-489e-ab9f-79845475e14c",
   "metadata": {},
   "outputs": [
    {
     "data": {
      "text/plain": [
       "Marital_Status\n",
       "Married     857\n",
       "Together    573\n",
       "Single      471\n",
       "Divorced    232\n",
       "Widow        76\n",
       "Alone         3\n",
       "Absurd        2\n",
       "YOLO          2\n",
       "Name: count, dtype: int64"
      ]
     },
     "execution_count": 255,
     "metadata": {},
     "output_type": "execute_result"
    }
   ],
   "source": [
    "df['Marital_Status'].value_counts()"
   ]
  },
  {
   "cell_type": "code",
   "execution_count": 256,
   "id": "8d02d77e-80f4-4f11-bad2-24565ceb783e",
   "metadata": {},
   "outputs": [],
   "source": [
    "df['Age'] = 2025 - df['Year_Birth']"
   ]
  },
  {
   "cell_type": "code",
   "execution_count": 257,
   "id": "74c9c9b7-5464-40f3-b9ac-ef84ecd9efc8",
   "metadata": {},
   "outputs": [
    {
     "data": {
      "text/plain": [
       "0       68\n",
       "1       71\n",
       "2       60\n",
       "3       41\n",
       "4       44\n",
       "        ..\n",
       "2235    58\n",
       "2236    79\n",
       "2237    44\n",
       "2238    69\n",
       "2239    71\n",
       "Name: Age, Length: 2216, dtype: int64"
      ]
     },
     "execution_count": 257,
     "metadata": {},
     "output_type": "execute_result"
    }
   ],
   "source": [
    "df['Age']"
   ]
  },
  {
   "cell_type": "code",
   "execution_count": 258,
   "id": "5806ef2f-9d81-4d71-a8b1-0a498c29caea",
   "metadata": {},
   "outputs": [],
   "source": [
    "df['Total_Children'] = df['Kidhome'] + df['Teenhome']"
   ]
  },
  {
   "cell_type": "code",
   "execution_count": 259,
   "id": "2330f93e-9f5a-4ec8-82a8-9c6b7e863945",
   "metadata": {},
   "outputs": [
    {
     "data": {
      "text/plain": [
       "0       0\n",
       "1       2\n",
       "2       0\n",
       "3       1\n",
       "4       1\n",
       "       ..\n",
       "2235    1\n",
       "2236    3\n",
       "2237    0\n",
       "2238    1\n",
       "2239    2\n",
       "Name: Total_Children, Length: 2216, dtype: int64"
      ]
     },
     "execution_count": 259,
     "metadata": {},
     "output_type": "execute_result"
    }
   ],
   "source": [
    "df['Total_Children']"
   ]
  },
  {
   "cell_type": "code",
   "execution_count": 260,
   "id": "b90e7000-a476-4344-925f-b18949a6f1ae",
   "metadata": {},
   "outputs": [],
   "source": [
    "spend_cols = ['MntWines', 'MntFruits', 'MntMeatProducts', 'MntFishProducts', 'MntSweetProducts']"
   ]
  },
  {
   "cell_type": "code",
   "execution_count": 261,
   "id": "90c40182-36a3-499a-b683-3ce64e0a36f2",
   "metadata": {},
   "outputs": [],
   "source": [
    "df['Total_Spending'] = df[spend_cols].sum(axis=1)"
   ]
  },
  {
   "cell_type": "code",
   "execution_count": 262,
   "id": "f42a45c1-6a1c-4232-bc92-975459cea4a3",
   "metadata": {},
   "outputs": [
    {
     "data": {
      "text/plain": [
       "0       1529\n",
       "1         21\n",
       "2        734\n",
       "3         48\n",
       "4        407\n",
       "        ... \n",
       "2235    1094\n",
       "2236     436\n",
       "2237    1217\n",
       "2238     782\n",
       "2239     151\n",
       "Name: Total_Spending, Length: 2216, dtype: int64"
      ]
     },
     "execution_count": 262,
     "metadata": {},
     "output_type": "execute_result"
    }
   ],
   "source": [
    "df['Total_Spending']"
   ]
  },
  {
   "cell_type": "code",
   "execution_count": 263,
   "id": "f1a7be0e-dee1-48a6-a7be-a48a2c2b0c4f",
   "metadata": {},
   "outputs": [],
   "source": [
    "df['Customer_Since'] = (pd.Timestamp('today') - df['Dt_Customer']).dt.days "
   ]
  },
  {
   "cell_type": "code",
   "execution_count": 264,
   "id": "5b3c2d1b-0872-4e6f-9da0-1715e9680185",
   "metadata": {},
   "outputs": [
    {
     "data": {
      "text/plain": [
       "0       4795\n",
       "1       4245\n",
       "2       4444\n",
       "3       4271\n",
       "4       4293\n",
       "        ... \n",
       "2235    4513\n",
       "2236    4151\n",
       "2237    4287\n",
       "2238    4288\n",
       "2239    4754\n",
       "Name: Customer_Since, Length: 2216, dtype: int64"
      ]
     },
     "execution_count": 264,
     "metadata": {},
     "output_type": "execute_result"
    }
   ],
   "source": [
    "df['Customer_Since'] "
   ]
  },
  {
   "cell_type": "markdown",
   "id": "f51edb07-8ac3-4d32-b0f0-5fc3c1795374",
   "metadata": {},
   "source": [
    "                                            EDA"
   ]
  },
  {
   "cell_type": "code",
   "execution_count": 265,
   "id": "de4a8a1e-42c3-4822-a9e8-980c89a23231",
   "metadata": {},
   "outputs": [
    {
     "data": {
      "image/png": "[encoded data removed]",
      "text/plain": [
       "<Figure size 640x480 with 1 Axes>"
      ]
     },
     "metadata": {},
     "output_type": "display_data"
    }
   ],
   "source": [
    "sns.histplot(df['Age'], bins=30, kde=True)\n",
    "plt.title('Age Distribution')\n",
    "plt.show()"
   ]
  },
  {
   "cell_type": "code",
   "execution_count": 266,
   "id": "1b33f826-1786-44d2-b7b0-dfeb32bd031c",
   "metadata": {},
   "outputs": [
    {
     "data": {
      "image/png": "[encoded data removed]",
      "text/plain": [
       "<Figure size 640x480 with 1 Axes>"
      ]
     },
     "metadata": {},
     "output_type": "display_data"
    }
   ],
   "source": [
    "sns.histplot(df['Income'], bins=30, kde=True)\n",
    "plt.title(\"Income Distribution\")\n",
    "plt.show()"
   ]
  },
  {
   "cell_type": "code",
   "execution_count": 267,
   "id": "53bead86-b02a-4ccc-9dbd-94edcb5aa917",
   "metadata": {},
   "outputs": [
    {
     "data": {
      "image/png": "[encoded data removed]",
      "text/plain": [
       "<Figure size 640x480 with 1 Axes>"
      ]
     },
     "metadata": {},
     "output_type": "display_data"
    }
   ],
   "source": [
    "sns.histplot(df['Total_Spending'], bins=30, kde=True)\n",
    "plt.title(\"Total_Speanding_Destribution\")\n",
    "plt.show()"
   ]
  },
  {
   "cell_type": "code",
   "execution_count": 268,
   "id": "2574026b-35b8-48d1-99e5-a9513f65c4ca",
   "metadata": {},
   "outputs": [
    {
     "data": {
      "image/png": "[encoded data removed]",
      "text/plain": [
       "<Figure size 800x600 with 1 Axes>"
      ]
     },
     "metadata": {},
     "output_type": "display_data"
    }
   ],
   "source": [
    "plt.figure(figsize=(8, 6))\n",
    "sns.scatterplot(data=df, x='Income', y='Total_Spending')\n",
    "plt.title(\"Income vs Total Spending by Cluster\")\n",
    "plt.xlabel(\"Income\")\n",
    "plt.ylabel(\"Total Spending\")\n",
    "plt.grid(True, linestyle='--', alpha=0.4)\n",
    "plt.show()\n"
   ]
  },
  {
   "cell_type": "code",
   "execution_count": 269,
   "id": "67189b4d-f1ae-47fa-8125-80c38044edb5",
   "metadata": {},
   "outputs": [
    {
     "data": {
      "image/png": "[encoded data removed]",
      "text/plain": [
       "<Figure size 640x480 with 1 Axes>"
      ]
     },
     "metadata": {},
     "output_type": "display_data"
    }
   ],
   "source": [
    "sns.boxplot(x=\"Education\", y=\"Income\", data = df)\n",
    "plt.xticks(rotation= 45)\n",
    "plt.title('Income By Education')\n",
    "plt.show()"
   ]
  },
  {
   "cell_type": "code",
   "execution_count": 270,
   "id": "acae39bb-beef-428e-b760-e6d4b6c91b1a",
   "metadata": {},
   "outputs": [
    {
     "data": {
      "image/png": "[encoded data removed]",
      "text/plain": [
       "<Figure size 640x480 with 1 Axes>"
      ]
     },
     "metadata": {},
     "output_type": "display_data"
    }
   ],
   "source": [
    "sns.boxplot(x=\"Marital_Status\", y=\"Total_Spending\", data = df)\n",
    "plt.xticks(rotation = 45)\n",
    "plt.show()"
   ]
  },
  {
   "cell_type": "code",
   "execution_count": 271,
   "id": "7530f2a6-0b8c-414f-8fac-7ff174920ccc",
   "metadata": {},
   "outputs": [],
   "source": [
    "corr = df[[\"Income\",\"Age\", \"Recency\", \"Total_Spending\", \"NumWebPurchases\", \"NumStorePurchases\"]].corr()"
   ]
  },
  {
   "cell_type": "code",
   "execution_count": 272,
   "id": "f8cc94d8-746d-469c-ba9a-0af25db66437",
   "metadata": {},
   "outputs": [
    {
     "data": {
      "text/html": [
       "<div>\n",
       "<style scoped>\n",
       "    .dataframe tbody tr th:only-of-type {\n",
       "        vertical-align: middle;\n",
       "    }\n",
       "\n",
       "    .dataframe tbody tr th {\n",
       "        vertical-align: top;\n",
       "    }\n",
       "\n",
       "    .dataframe thead th {\n",
       "        text-align: right;\n",
       "    }\n",
       "</style>\n",
       "<table border=\"1\" class=\"dataframe\">\n",
       "  <thead>\n",
       "    <tr style=\"text-align: right;\">\n",
       "      <th></th>\n",
       "      <th>Income</th>\n",
       "      <th>Age</th>\n",
       "      <th>Recency</th>\n",
       "      <th>Total_Spending</th>\n",
       "      <th>NumWebPurchases</th>\n",
       "      <th>NumStorePurchases</th>\n",
       "    </tr>\n",
       "  </thead>\n",
       "  <tbody>\n",
       "    <tr>\n",
       "      <th>Income</th>\n",
       "      <td>1.000000</td>\n",
       "      <td>0.161791</td>\n",
       "      <td>-0.003970</td>\n",
       "      <td>0.668062</td>\n",
       "      <td>0.387878</td>\n",
       "      <td>0.529362</td>\n",
       "    </tr>\n",
       "    <tr>\n",
       "      <th>Age</th>\n",
       "      <td>0.161791</td>\n",
       "      <td>1.000000</td>\n",
       "      <td>0.016295</td>\n",
       "      <td>0.112779</td>\n",
       "      <td>0.153051</td>\n",
       "      <td>0.127891</td>\n",
       "    </tr>\n",
       "    <tr>\n",
       "      <th>Recency</th>\n",
       "      <td>-0.003970</td>\n",
       "      <td>0.016295</td>\n",
       "      <td>1.000000</td>\n",
       "      <td>0.019374</td>\n",
       "      <td>-0.005641</td>\n",
       "      <td>-0.000434</td>\n",
       "    </tr>\n",
       "    <tr>\n",
       "      <th>Total_Spending</th>\n",
       "      <td>0.668062</td>\n",
       "      <td>0.112779</td>\n",
       "      <td>0.019374</td>\n",
       "      <td>1.000000</td>\n",
       "      <td>0.515999</td>\n",
       "      <td>0.670327</td>\n",
       "    </tr>\n",
       "    <tr>\n",
       "      <th>NumWebPurchases</th>\n",
       "      <td>0.387878</td>\n",
       "      <td>0.153051</td>\n",
       "      <td>-0.005641</td>\n",
       "      <td>0.515999</td>\n",
       "      <td>1.000000</td>\n",
       "      <td>0.516240</td>\n",
       "    </tr>\n",
       "    <tr>\n",
       "      <th>NumStorePurchases</th>\n",
       "      <td>0.529362</td>\n",
       "      <td>0.127891</td>\n",
       "      <td>-0.000434</td>\n",
       "      <td>0.670327</td>\n",
       "      <td>0.516240</td>\n",
       "      <td>1.000000</td>\n",
       "    </tr>\n",
       "  </tbody>\n",
       "</table>\n",
       "</div>"
      ],
      "text/plain": [
       "                     Income       Age   Recency  Total_Spending  \\\n",
       "Income             1.000000  0.161791 -0.003970        0.668062   \n",
       "Age                0.161791  1.000000  0.016295        0.112779   \n",
       "Recency           -0.003970  0.016295  1.000000        0.019374   \n",
       "Total_Spending     0.668062  0.112779  0.019374        1.000000   \n",
       "NumWebPurchases    0.387878  0.153051 -0.005641        0.515999   \n",
       "NumStorePurchases  0.529362  0.127891 -0.000434        0.670327   \n",
       "\n",
       "                   NumWebPurchases  NumStorePurchases  \n",
       "Income                    0.387878           0.529362  \n",
       "Age                       0.153051           0.127891  \n",
       "Recency                  -0.005641          -0.000434  \n",
       "Total_Spending            0.515999           0.670327  \n",
       "NumWebPurchases           1.000000           0.516240  \n",
       "NumStorePurchases         0.516240           1.000000  "
      ]
     },
     "execution_count": 272,
     "metadata": {},
     "output_type": "execute_result"
    }
   ],
   "source": [
    "corr"
   ]
  },
  {
   "cell_type": "code",
   "execution_count": 273,
   "id": "abbc023f-5213-48a5-ba18-66668175752d",
   "metadata": {},
   "outputs": [
    {
     "data": {
      "image/png": "[encoded data removed]",
      "text/plain": [
       "<Figure size 640x480 with 2 Axes>"
      ]
     },
     "metadata": {},
     "output_type": "display_data"
    }
   ],
   "source": [
    "sns.heatmap(corr, annot = True, cmap = \"coolwarm\")\n",
    "plt.title(\"Correlation Matrix\")\n",
    "plt.show()"
   ]
  },
  {
   "cell_type": "code",
   "execution_count": 274,
   "id": "12eca162-9c7e-4f2e-a418-c3ec480dafa4",
   "metadata": {},
   "outputs": [],
   "source": [
    "pivot_income = df.pivot_table(\n",
    "    values=\"Income\",\n",
    "    index=\"Education\",\n",
    "    columns=\"Marital_Status\",\n",
    "    aggfunc=\"mean\"\n",
    ")\n"
   ]
  },
  {
   "cell_type": "code",
   "execution_count": 275,
   "id": "1008e81d-4138-4671-9187-09471eb39617",
   "metadata": {},
   "outputs": [
    {
     "data": {
      "text/html": [
       "<div>\n",
       "<style scoped>\n",
       "    .dataframe tbody tr th:only-of-type {\n",
       "        vertical-align: middle;\n",
       "    }\n",
       "\n",
       "    .dataframe tbody tr th {\n",
       "        vertical-align: top;\n",
       "    }\n",
       "\n",
       "    .dataframe thead th {\n",
       "        text-align: right;\n",
       "    }\n",
       "</style>\n",
       "<table border=\"1\" class=\"dataframe\">\n",
       "  <thead>\n",
       "    <tr style=\"text-align: right;\">\n",
       "      <th>Marital_Status</th>\n",
       "      <th>Absurd</th>\n",
       "      <th>Alone</th>\n",
       "      <th>Divorced</th>\n",
       "      <th>Married</th>\n",
       "      <th>Single</th>\n",
       "      <th>Together</th>\n",
       "      <th>Widow</th>\n",
       "      <th>YOLO</th>\n",
       "    </tr>\n",
       "    <tr>\n",
       "      <th>Education</th>\n",
       "      <th></th>\n",
       "      <th></th>\n",
       "      <th></th>\n",
       "      <th></th>\n",
       "      <th></th>\n",
       "      <th></th>\n",
       "      <th></th>\n",
       "      <th></th>\n",
       "    </tr>\n",
       "  </thead>\n",
       "  <tbody>\n",
       "    <tr>\n",
       "      <th>2n Cycle</th>\n",
       "      <td>NaN</td>\n",
       "      <td>NaN</td>\n",
       "      <td>49395.130435</td>\n",
       "      <td>46201.100000</td>\n",
       "      <td>53673.944444</td>\n",
       "      <td>44736.410714</td>\n",
       "      <td>51392.200000</td>\n",
       "      <td>NaN</td>\n",
       "    </tr>\n",
       "    <tr>\n",
       "      <th>Basic</th>\n",
       "      <td>NaN</td>\n",
       "      <td>NaN</td>\n",
       "      <td>9548.000000</td>\n",
       "      <td>21960.500000</td>\n",
       "      <td>18238.666667</td>\n",
       "      <td>21240.071429</td>\n",
       "      <td>22123.000000</td>\n",
       "      <td>NaN</td>\n",
       "    </tr>\n",
       "    <tr>\n",
       "      <th>Graduation</th>\n",
       "      <td>79244.0</td>\n",
       "      <td>34176.0</td>\n",
       "      <td>54526.042017</td>\n",
       "      <td>50800.258741</td>\n",
       "      <td>51322.182927</td>\n",
       "      <td>55758.480702</td>\n",
       "      <td>54976.657143</td>\n",
       "      <td>NaN</td>\n",
       "    </tr>\n",
       "    <tr>\n",
       "      <th>Master</th>\n",
       "      <td>65487.0</td>\n",
       "      <td>61331.0</td>\n",
       "      <td>50331.945946</td>\n",
       "      <td>53286.028986</td>\n",
       "      <td>53530.560000</td>\n",
       "      <td>52109.009804</td>\n",
       "      <td>58401.545455</td>\n",
       "      <td>NaN</td>\n",
       "    </tr>\n",
       "    <tr>\n",
       "      <th>PhD</th>\n",
       "      <td>NaN</td>\n",
       "      <td>35860.0</td>\n",
       "      <td>53096.615385</td>\n",
       "      <td>58138.031579</td>\n",
       "      <td>53314.614583</td>\n",
       "      <td>56041.422414</td>\n",
       "      <td>60288.083333</td>\n",
       "      <td>48432.0</td>\n",
       "    </tr>\n",
       "  </tbody>\n",
       "</table>\n",
       "</div>"
      ],
      "text/plain": [
       "Marital_Status   Absurd    Alone      Divorced       Married        Single  \\\n",
       "Education                                                                    \n",
       "2n Cycle            NaN      NaN  49395.130435  46201.100000  53673.944444   \n",
       "Basic               NaN      NaN   9548.000000  21960.500000  18238.666667   \n",
       "Graduation      79244.0  34176.0  54526.042017  50800.258741  51322.182927   \n",
       "Master          65487.0  61331.0  50331.945946  53286.028986  53530.560000   \n",
       "PhD                 NaN  35860.0  53096.615385  58138.031579  53314.614583   \n",
       "\n",
       "Marital_Status      Together         Widow     YOLO  \n",
       "Education                                            \n",
       "2n Cycle        44736.410714  51392.200000      NaN  \n",
       "Basic           21240.071429  22123.000000      NaN  \n",
       "Graduation      55758.480702  54976.657143      NaN  \n",
       "Master          52109.009804  58401.545455      NaN  \n",
       "PhD             56041.422414  60288.083333  48432.0  "
      ]
     },
     "execution_count": 275,
     "metadata": {},
     "output_type": "execute_result"
    }
   ],
   "source": [
    "pivot_income"
   ]
  },
  {
   "cell_type": "code",
   "execution_count": 276,
   "id": "adc56b9e-cd03-40f0-ad2b-61aacbdcd3f9",
   "metadata": {},
   "outputs": [
    {
     "data": {
      "image/png": "[encoded data removed]",
      "text/plain": [
       "<Figure size 640x480 with 2 Axes>"
      ]
     },
     "metadata": {},
     "output_type": "display_data"
    }
   ],
   "source": [
    "sns.heatmap(pivot_income, annot = True, fmt=\".0f\", cmap=\"YlGnBu\")\n",
    "plt.title(\"Avetage In come By Education & Marital Status\")\n",
    "plt.show()"
   ]
  },
  {
   "cell_type": "code",
   "execution_count": 277,
   "id": "935f1d8f-25b4-4271-ba41-a136974a9051",
   "metadata": {},
   "outputs": [],
   "source": [
    "group1= df.groupby(\"Education\")[\"Total_Spending\"].mean().sort_values(ascending = False)"
   ]
  },
  {
   "cell_type": "code",
   "execution_count": 278,
   "id": "5abcec75-b72e-4233-bd0b-562a9b48b425",
   "metadata": {},
   "outputs": [
    {
     "data": {
      "text/plain": [
       "Education\n",
       "PhD           644.330561\n",
       "Graduation    571.002688\n",
       "Master        569.578082\n",
       "2n Cycle      448.050000\n",
       "Basic          58.962963\n",
       "Name: Total_Spending, dtype: float64"
      ]
     },
     "execution_count": 278,
     "metadata": {},
     "output_type": "execute_result"
    }
   ],
   "source": [
    "group1"
   ]
  },
  {
   "cell_type": "code",
   "execution_count": 279,
   "id": "7cbc4401-e03c-4834-b43e-f3cf3987e3c3",
   "metadata": {},
   "outputs": [
    {
     "data": {
      "image/png": "[encoded data removed]",
      "text/plain": [
       "<Figure size 640x480 with 1 Axes>"
      ]
     },
     "metadata": {},
     "output_type": "display_data"
    }
   ],
   "source": [
    "group1.plot(kind= \"bar\", color = \"skyblue\")\n",
    "plt.title(\"Average Speanding By Education\")\n",
    "plt.ylabel(\"Average Total Speanding\")\n",
    "plt.xticks(rotation = 45)\n",
    "plt.show()"
   ]
  },
  {
   "cell_type": "code",
   "execution_count": 280,
   "id": "a9eeb956-698c-48c5-9786-0fbf812f81c9",
   "metadata": {},
   "outputs": [],
   "source": [
    "df['AcceptedAny'] = df[[\"AcceptedCmp3\", \"AcceptedCmp4\", \"AcceptedCmp5\", \"AcceptedCmp1\", \"AcceptedCmp2\", \"Response\"]].sum(axis=1)"
   ]
  },
  {
   "cell_type": "code",
   "execution_count": 281,
   "id": "2fd4029b-fe55-486a-9664-07bb08697d69",
   "metadata": {},
   "outputs": [
    {
     "data": {
      "text/plain": [
       "array([1, 0, 3, 2, 4, 5])"
      ]
     },
     "execution_count": 281,
     "metadata": {},
     "output_type": "execute_result"
    }
   ],
   "source": [
    "df['AcceptedAny'].unique()"
   ]
  },
  {
   "cell_type": "code",
   "execution_count": 282,
   "id": "e1dc5678-d980-4148-8b34-09f7b07c2a2e",
   "metadata": {},
   "outputs": [],
   "source": [
    "df['AcceptedAny'] = df['AcceptedAny'].apply(lambda x: 1 if x>0 else 0)"
   ]
  },
  {
   "cell_type": "code",
   "execution_count": 283,
   "id": "7034763a-9c2d-4315-b88d-b96a3d5a7d77",
   "metadata": {},
   "outputs": [
    {
     "data": {
      "text/plain": [
       "array([1, 0])"
      ]
     },
     "execution_count": 283,
     "metadata": {},
     "output_type": "execute_result"
    }
   ],
   "source": [
    "df['AcceptedAny'].unique()"
   ]
  },
  {
   "cell_type": "code",
   "execution_count": 284,
   "id": "62e85f84-a1ab-498c-8f87-b6c039ac5d23",
   "metadata": {},
   "outputs": [],
   "source": [
    "group2 = df.groupby(\"Marital_Status\")['AcceptedAny'].mean().sort_values(ascending = False)"
   ]
  },
  {
   "cell_type": "code",
   "execution_count": 285,
   "id": "2231dde3-2595-4fd1-b398-59da8cba6488",
   "metadata": {},
   "outputs": [
    {
     "data": {
      "text/plain": [
       "Marital_Status\n",
       "Absurd      0.500000\n",
       "YOLO        0.500000\n",
       "Widow       0.342105\n",
       "Alone       0.333333\n",
       "Single      0.312102\n",
       "Divorced    0.297414\n",
       "Married     0.252042\n",
       "Together    0.251309\n",
       "Name: AcceptedAny, dtype: float64"
      ]
     },
     "execution_count": 285,
     "metadata": {},
     "output_type": "execute_result"
    }
   ],
   "source": [
    "group2"
   ]
  },
  {
   "cell_type": "code",
   "execution_count": 286,
   "id": "22219214-d3ed-47c3-a54d-b414a4584f35",
   "metadata": {},
   "outputs": [
    {
     "data": {
      "image/png": "[encoded data removed]",
      "text/plain": [
       "<Figure size 640x480 with 1 Axes>"
      ]
     },
     "metadata": {},
     "output_type": "display_data"
    }
   ],
   "source": [
    "group2.plot(kind= \"bar\", color = \"green\")\n",
    "plt.title(\"Campaign Acceptance Rate By Marital Status\")\n",
    "plt.ylabel(\"Acceptance Rate\")\n",
    "plt.xticks(rotation = 45)\n",
    "plt.show()"
   ]
  },
  {
   "cell_type": "code",
   "execution_count": 287,
   "id": "97f638a7-1887-4124-b1eb-b8d03217c756",
   "metadata": {},
   "outputs": [],
   "source": [
    "bins = [18, 30, 40, 50, 60, 70, 90]"
   ]
  },
  {
   "cell_type": "code",
   "execution_count": 288,
   "id": "70c95e77-16ca-4281-86eb-c7d04d6bd782",
   "metadata": {},
   "outputs": [],
   "source": [
    "labels = [\"18-29\", \"30-39\", \"40-49\", \"50-59\", \"60-69\", \"70+\"]"
   ]
  },
  {
   "cell_type": "code",
   "execution_count": 289,
   "id": "2dbd1d20-1e0f-481d-8b57-5985427382e2",
   "metadata": {},
   "outputs": [],
   "source": [
    "df[\"Agegroup\"] = pd.cut(df['Age'], bins = bins, labels=labels)"
   ]
  },
  {
   "cell_type": "code",
   "execution_count": 290,
   "id": "dd4ef5a0-9928-4d93-83f1-40818de060ce",
   "metadata": {},
   "outputs": [
    {
     "data": {
      "text/plain": [
       "0       60-69\n",
       "1         70+\n",
       "2       50-59\n",
       "3       40-49\n",
       "4       40-49\n",
       "        ...  \n",
       "2235    50-59\n",
       "2236      70+\n",
       "2237    40-49\n",
       "2238    60-69\n",
       "2239      70+\n",
       "Name: Agegroup, Length: 2216, dtype: category\n",
       "Categories (6, object): ['18-29' < '30-39' < '40-49' < '50-59' < '60-69' < '70+']"
      ]
     },
     "execution_count": 290,
     "metadata": {},
     "output_type": "execute_result"
    }
   ],
   "source": [
    "df[\"Agegroup\"]"
   ]
  },
  {
   "cell_type": "code",
   "execution_count": 291,
   "id": "8c241d15-7243-48a0-99d1-cb1f1c2d3570",
   "metadata": {},
   "outputs": [],
   "source": [
    "group3 = df.groupby(\"Agegroup\")['Income'].mean()"
   ]
  },
  {
   "cell_type": "code",
   "execution_count": 292,
   "id": "32d7a3f0-612d-4fc9-bd61-17e0e053f0b4",
   "metadata": {},
   "outputs": [
    {
     "data": {
      "text/plain": [
       "Agegroup\n",
       "18-29    46658.000000\n",
       "30-39    46283.028302\n",
       "40-49    49224.877034\n",
       "50-59    50812.913303\n",
       "60-69    56200.827887\n",
       "70+      58944.316294\n",
       "Name: Income, dtype: float64"
      ]
     },
     "execution_count": 292,
     "metadata": {},
     "output_type": "execute_result"
    }
   ],
   "source": [
    "group3"
   ]
  },
  {
   "cell_type": "code",
   "execution_count": 293,
   "id": "4da93093-a38b-4e90-9db5-cdc02f320240",
   "metadata": {
    "collapsed": true,
    "jupyter": {
     "outputs_hidden": true
    }
   },
   "outputs": [
    {
     "data": {
      "image/png": "[encoded data removed]",
      "text/plain": [
       "<Figure size 640x480 with 1 Axes>"
      ]
     },
     "metadata": {},
     "output_type": "display_data"
    }
   ],
   "source": [
    "group3.plot(kind = \"barh\", color = \"brown\")\n",
    "plt.title(\"Average Income By Age Group\")\n",
    "plt.xlabel(\"Average Income\")\n",
    "plt.show()"
   ]
  },
  {
   "cell_type": "code",
   "execution_count": 294,
   "id": "169d7b68-705e-4c94-83dc-73687e45964b",
   "metadata": {},
   "outputs": [],
   "source": [
    "# 1. Select features for clustering\n",
    "# Exclude 'ID', 'Year_Birth', 'Dt_Customer', 'Z_CostContact', 'Z_Revenue', and individual spending columns\n",
    "# as TotalSpending is included. Include engineered features and other relevant ones.\n",
    "clustering_features = [\n",
    "    'Income', 'Recency', 'Age', 'Total_Spending',\n",
    "    'Education', 'Marital_Status', 'Kidhome', 'Teenhome',\n",
    "    'NumDealsPurchases', 'NumWebPurchases', 'NumCatalogPurchases',\n",
    "    'NumStorePurchases', 'NumWebVisitsMonth', 'AcceptedCmp3',\n",
    "    'AcceptedCmp4', 'AcceptedCmp5', 'AcceptedCmp1', 'AcceptedCmp2',\n",
    "    'Complain', 'Response'\n",
    "]\n",
    "\n",
    "df_clustering = df[clustering_features].copy()"
   ]
  },
  {
   "cell_type": "code",
   "execution_count": 295,
   "id": "5997641b-d059-47a8-9ecf-715111570898",
   "metadata": {},
   "outputs": [],
   "source": [
    "# 2. Identify and handle outliers in numerical features\n",
    "# Using IQR to identify and cap outliers to the 95th percentile to avoid removing data.\n",
    "numerical_cols = ['Income', 'Recency', 'Age','Total_Spending', 'NumDealsPurchases',\n",
    "                  'NumWebPurchases', 'NumCatalogPurchases', 'NumStorePurchases',\n",
    "                  'NumWebVisitsMonth']\n",
    "\n",
    "for col in numerical_cols:\n",
    "    Q1 = df_clustering[col].quantile(0.25)\n",
    "    Q3 = df_clustering[col].quantile(0.75)\n",
    "    IQR = Q3 - Q1\n",
    "    upper_bound = Q3 + 1.5 * IQR\n",
    "\n",
    "    # Cap outliers to the 95th percentile\n",
    "    upper_cap = df_clustering[col].quantile(0.95)\n",
    "    df_clustering[col] = np.where(df_clustering[col] > upper_cap, upper_cap, df_clustering[col])"
   ]
  },
  {
   "cell_type": "code",
   "execution_count": 296,
   "id": "678e46a3-72ab-4369-91a8-9386e48b2861",
   "metadata": {},
   "outputs": [
    {
     "data": {
      "text/plain": [
       "Index(['ID', 'Year_Birth', 'Education', 'Marital_Status', 'Income', 'Kidhome',\n",
       "       'Teenhome', 'Dt_Customer', 'Recency', 'MntWines', 'MntFruits',\n",
       "       'MntMeatProducts', 'MntFishProducts', 'MntSweetProducts',\n",
       "       'MntGoldProds', 'NumDealsPurchases', 'NumWebPurchases',\n",
       "       'NumCatalogPurchases', 'NumStorePurchases', 'NumWebVisitsMonth',\n",
       "       'AcceptedCmp3', 'AcceptedCmp4', 'AcceptedCmp5', 'AcceptedCmp1',\n",
       "       'AcceptedCmp2', 'Complain', 'Z_CostContact', 'Z_Revenue', 'Response',\n",
       "       'Age', 'Total_Children', 'Total_Spending', 'Customer_Since',\n",
       "       'AcceptedAny', 'Agegroup'],\n",
       "      dtype='object')"
      ]
     },
     "execution_count": 296,
     "metadata": {},
     "output_type": "execute_result"
    }
   ],
   "source": [
    "df.columns"
   ]
  },
  {
   "cell_type": "code",
   "execution_count": 297,
   "id": "ba2afb81-6692-4c03-bc7b-32d8cf90886a",
   "metadata": {},
   "outputs": [],
   "source": [
    "features = [\"Age\", \"Income\", \"Total_Spending\", 'NumWebPurchases', 'NumStorePurchases', 'NumWebVisitsMonth',\"Recency\"]"
   ]
  },
  {
   "cell_type": "code",
   "execution_count": 298,
   "id": "418d1034-27b0-4523-97b7-472f4a49151d",
   "metadata": {},
   "outputs": [],
   "source": [
    "X = df[features].copy()"
   ]
  },
  {
   "cell_type": "code",
   "execution_count": 299,
   "id": "51d8d29d-aa09-4524-917e-cd1cba52a56a",
   "metadata": {},
   "outputs": [
    {
     "data": {
      "text/html": [
       "<div>\n",
       "<style scoped>\n",
       "    .dataframe tbody tr th:only-of-type {\n",
       "        vertical-align: middle;\n",
       "    }\n",
       "\n",
       "    .dataframe tbody tr th {\n",
       "        vertical-align: top;\n",
       "    }\n",
       "\n",
       "    .dataframe thead th {\n",
       "        text-align: right;\n",
       "    }\n",
       "</style>\n",
       "<table border=\"1\" class=\"dataframe\">\n",
       "  <thead>\n",
       "    <tr style=\"text-align: right;\">\n",
       "      <th></th>\n",
       "      <th>Age</th>\n",
       "      <th>Income</th>\n",
       "      <th>Total_Spending</th>\n",
       "      <th>NumWebPurchases</th>\n",
       "      <th>NumStorePurchases</th>\n",
       "      <th>NumWebVisitsMonth</th>\n",
       "      <th>Recency</th>\n",
       "    </tr>\n",
       "  </thead>\n",
       "  <tbody>\n",
       "    <tr>\n",
       "      <th>0</th>\n",
       "      <td>68</td>\n",
       "      <td>58138.0</td>\n",
       "      <td>1529</td>\n",
       "      <td>8</td>\n",
       "      <td>4</td>\n",
       "      <td>7</td>\n",
       "      <td>58</td>\n",
       "    </tr>\n",
       "    <tr>\n",
       "      <th>1</th>\n",
       "      <td>71</td>\n",
       "      <td>46344.0</td>\n",
       "      <td>21</td>\n",
       "      <td>1</td>\n",
       "      <td>2</td>\n",
       "      <td>5</td>\n",
       "      <td>38</td>\n",
       "    </tr>\n",
       "    <tr>\n",
       "      <th>2</th>\n",
       "      <td>60</td>\n",
       "      <td>71613.0</td>\n",
       "      <td>734</td>\n",
       "      <td>8</td>\n",
       "      <td>10</td>\n",
       "      <td>4</td>\n",
       "      <td>26</td>\n",
       "    </tr>\n",
       "    <tr>\n",
       "      <th>3</th>\n",
       "      <td>41</td>\n",
       "      <td>26646.0</td>\n",
       "      <td>48</td>\n",
       "      <td>2</td>\n",
       "      <td>4</td>\n",
       "      <td>6</td>\n",
       "      <td>26</td>\n",
       "    </tr>\n",
       "    <tr>\n",
       "      <th>4</th>\n",
       "      <td>44</td>\n",
       "      <td>58293.0</td>\n",
       "      <td>407</td>\n",
       "      <td>5</td>\n",
       "      <td>6</td>\n",
       "      <td>5</td>\n",
       "      <td>94</td>\n",
       "    </tr>\n",
       "    <tr>\n",
       "      <th>...</th>\n",
       "      <td>...</td>\n",
       "      <td>...</td>\n",
       "      <td>...</td>\n",
       "      <td>...</td>\n",
       "      <td>...</td>\n",
       "      <td>...</td>\n",
       "      <td>...</td>\n",
       "    </tr>\n",
       "    <tr>\n",
       "      <th>2235</th>\n",
       "      <td>58</td>\n",
       "      <td>61223.0</td>\n",
       "      <td>1094</td>\n",
       "      <td>9</td>\n",
       "      <td>4</td>\n",
       "      <td>5</td>\n",
       "      <td>46</td>\n",
       "    </tr>\n",
       "    <tr>\n",
       "      <th>2236</th>\n",
       "      <td>79</td>\n",
       "      <td>64014.0</td>\n",
       "      <td>436</td>\n",
       "      <td>8</td>\n",
       "      <td>5</td>\n",
       "      <td>7</td>\n",
       "      <td>56</td>\n",
       "    </tr>\n",
       "    <tr>\n",
       "      <th>2237</th>\n",
       "      <td>44</td>\n",
       "      <td>56981.0</td>\n",
       "      <td>1217</td>\n",
       "      <td>2</td>\n",
       "      <td>13</td>\n",
       "      <td>6</td>\n",
       "      <td>91</td>\n",
       "    </tr>\n",
       "    <tr>\n",
       "      <th>2238</th>\n",
       "      <td>69</td>\n",
       "      <td>69245.0</td>\n",
       "      <td>782</td>\n",
       "      <td>6</td>\n",
       "      <td>10</td>\n",
       "      <td>3</td>\n",
       "      <td>8</td>\n",
       "    </tr>\n",
       "    <tr>\n",
       "      <th>2239</th>\n",
       "      <td>71</td>\n",
       "      <td>52869.0</td>\n",
       "      <td>151</td>\n",
       "      <td>3</td>\n",
       "      <td>4</td>\n",
       "      <td>7</td>\n",
       "      <td>40</td>\n",
       "    </tr>\n",
       "  </tbody>\n",
       "</table>\n",
       "<p>2216 rows × 7 columns</p>\n",
       "</div>"
      ],
      "text/plain": [
       "      Age   Income  Total_Spending  NumWebPurchases  NumStorePurchases  \\\n",
       "0      68  58138.0            1529                8                  4   \n",
       "1      71  46344.0              21                1                  2   \n",
       "2      60  71613.0             734                8                 10   \n",
       "3      41  26646.0              48                2                  4   \n",
       "4      44  58293.0             407                5                  6   \n",
       "...   ...      ...             ...              ...                ...   \n",
       "2235   58  61223.0            1094                9                  4   \n",
       "2236   79  64014.0             436                8                  5   \n",
       "2237   44  56981.0            1217                2                 13   \n",
       "2238   69  69245.0             782                6                 10   \n",
       "2239   71  52869.0             151                3                  4   \n",
       "\n",
       "      NumWebVisitsMonth  Recency  \n",
       "0                     7       58  \n",
       "1                     5       38  \n",
       "2                     4       26  \n",
       "3                     6       26  \n",
       "4                     5       94  \n",
       "...                 ...      ...  \n",
       "2235                  5       46  \n",
       "2236                  7       56  \n",
       "2237                  6       91  \n",
       "2238                  3        8  \n",
       "2239                  7       40  \n",
       "\n",
       "[2216 rows x 7 columns]"
      ]
     },
     "execution_count": 299,
     "metadata": {},
     "output_type": "execute_result"
    }
   ],
   "source": [
    "X"
   ]
  },
  {
   "cell_type": "code",
   "execution_count": 300,
   "id": "73deffee",
   "metadata": {},
   "outputs": [
    {
     "data": {
      "text/plain": [
       "['preprocessor.joblib']"
      ]
     },
     "execution_count": 300,
     "metadata": {},
     "output_type": "execute_result"
    }
   ],
   "source": [
    "from sklearn.pipeline import Pipeline\n",
    "from sklearn.preprocessing import StandardScaler, OneHotEncoder\n",
    "from sklearn.compose import ColumnTransformer\n",
    "import joblib\n",
    "\n",
    "# Features for clustering\n",
    "features = [\"Age\", \"Income\", \"Total_Spending\", 'NumWebPurchases', 'NumStorePurchases', 'NumWebVisitsMonth',\"Recency\"]\n",
    "\n",
    "# Adding encoded categorical (e.g., Education, Marital_Status)\n",
    "cat_cols = ['Education','Marital_Status']\n",
    "num_cols = features.copy()\n",
    "\n",
    "preprocessor = ColumnTransformer(transformers=[\n",
    "    ('num', StandardScaler(), num_cols),\n",
    "    ('cat', OneHotEncoder(drop='first'), cat_cols)\n",
    "], remainder='drop')\n",
    "\n",
    "X = preprocessor.fit_transform(df[num_cols + cat_cols])\n",
    "\n",
    "# Save transformer\n",
    "joblib.dump(preprocessor, 'preprocessor.joblib')"
   ]
  },
  {
   "cell_type": "code",
   "execution_count": 333,
   "id": "8495bb87",
   "metadata": {},
   "outputs": [],
   "source": [
    "features = ['Age', 'Income', 'Total_Spending', 'NumWebPurchases',\n",
    "            'NumStorePurchases', 'NumWebVisitsMonth', 'Recency']\n",
    "scaler_X = df[features]\n"
   ]
  },
  {
   "cell_type": "code",
   "execution_count": 334,
   "id": "c6425ad5-0fbb-4d37-bc80-f086e2cf205b",
   "metadata": {},
   "outputs": [],
   "source": [
    "from sklearn.preprocessing import StandardScaler\n",
    "scaler = StandardScaler()"
   ]
  },
  {
   "cell_type": "code",
   "execution_count": 335,
   "id": "f0053e06-d8c7-43fb-af34-262049d5b51e",
   "metadata": {},
   "outputs": [
    {
     "data": {
      "text/plain": [
       "array([[ 0.98644293,  0.2340627 ,  1.67383183, ..., -0.55414289,\n",
       "         0.69323197,  0.31053212],\n",
       "       [ 1.23680074, -0.23455948, -0.93944575, ..., -1.16951781,\n",
       "        -0.1315745 , -0.38050944],\n",
       "       [ 0.31882209,  0.76947764,  0.29614239, ...,  1.29198186,\n",
       "        -0.54397773, -0.79513438],\n",
       "       ...,\n",
       "       [-1.01641959,  0.18809052,  1.13315371, ...,  2.21504423,\n",
       "         0.28082874,  1.4507507 ],\n",
       "       [ 1.06989553,  0.67538765,  0.37932364, ...,  1.29198186,\n",
       "        -0.95638097, -1.41707178],\n",
       "       [ 1.23680074,  0.02470453, -0.7141632 , ..., -0.55414289,\n",
       "         0.69323197, -0.31140528]])"
      ]
     },
     "execution_count": 335,
     "metadata": {},
     "output_type": "execute_result"
    }
   ],
   "source": [
    "X_pre = scaler.fit_transform(scaler_X)\n",
    "X_pre"
   ]
  },
  {
   "cell_type": "code",
   "execution_count": 336,
   "id": "d0909c05",
   "metadata": {},
   "outputs": [
    {
     "name": "stdout",
     "output_type": "stream",
     "text": [
      "PCA explained variance ratio: 0.9999984350165249\n"
     ]
    },
    {
     "data": {
      "text/plain": [
       "['pca_transform.joblib']"
      ]
     },
     "execution_count": 336,
     "metadata": {},
     "output_type": "execute_result"
    }
   ],
   "source": [
    "from sklearn.decomposition import PCA\n",
    "\n",
    "pca = PCA(n_components=2, random_state=42)\n",
    "X_pca = pca.fit_transform(X)\n",
    "print(\"PCA explained variance ratio:\", pca.explained_variance_ratio_.sum())\n",
    "joblib.dump(pca, 'pca_transform.joblib')"
   ]
  },
  {
   "cell_type": "code",
   "execution_count": 337,
   "id": "f3c8491e",
   "metadata": {},
   "outputs": [],
   "source": [
    "from sklearn.metrics import silhouette_score, calinski_harabasz_score, davies_bouldin_score, adjusted_mutual_info_score\n",
    "from sklearn.cluster import KMeans, AgglomerativeClustering, DBSCAN\n",
    "from sklearn.mixture import GaussianMixture\n",
    "import itertools, tqdm\n",
    "\n",
    "def evaluate_labels(X, labels):\n",
    "    if len(set(labels)) <= 1:  # invalid clustering\n",
    "        return {'sil': -1, 'ch': -1, 'db': np.inf, 'n_clusters': len(set(labels))}\n",
    "    return {\n",
    "        'sil': silhouette_score(X, labels),\n",
    "        'ch': calinski_harabasz_score(X, labels),\n",
    "        'db': davies_bouldin_score(X, labels),\n",
    "        'n_clusters': len(set(labels))\n",
    "    }"
   ]
  },
  {
   "cell_type": "markdown",
   "id": "84d3cf45",
   "metadata": {},
   "source": [
    "Model 1 - K-Means tuning"
   ]
  },
  {
   "cell_type": "code",
   "execution_count": 338,
   "id": "ba1453b9",
   "metadata": {},
   "outputs": [
    {
     "name": "stdout",
     "output_type": "stream",
     "text": [
      "        sil           ch        db  n_clusters   model  param_k\n",
      "0  0.321147  1139.980207  1.292238           2  KMeans        2\n",
      "1  0.263492   794.251881  1.673930           3  KMeans        3\n",
      "2  0.194340   661.024731  1.756590           4  KMeans        4\n",
      "3  0.191300   577.032769  1.747535           5  KMeans        5\n",
      "4  0.185996   521.804071  1.625057           6  KMeans        6\n"
     ]
    }
   ],
   "source": [
    "k_range = range(2,11)\n",
    "kmeans_results = []\n",
    "for k in k_range:\n",
    "    km = KMeans(n_clusters=k, random_state=42, n_init=10)\n",
    "    labels = km.fit_predict(X_pre)\n",
    "    scores = evaluate_labels(X_pre, labels)\n",
    "    scores.update({'model':'KMeans','param_k':k})\n",
    "    kmeans_results.append(scores)\n",
    "kmeans_df = pd.DataFrame(kmeans_results).sort_values(by='sil',ascending=False)\n",
    "print(kmeans_df.head())"
   ]
  },
  {
   "cell_type": "markdown",
   "id": "4dbcd965",
   "metadata": {},
   "source": [
    "Model 2 - Agglomerative tuning"
   ]
  },
  {
   "cell_type": "code",
   "execution_count": 339,
   "id": "5cdd72c8",
   "metadata": {},
   "outputs": [
    {
     "name": "stdout",
     "output_type": "stream",
     "text": [
      "        sil         ch        db  n_clusters          model  param_k   linkage\n",
      "1  0.859112  88.977865  0.101634           2  Agglomerative        2  complete\n",
      "2  0.859112  88.977865  0.101634           2  Agglomerative        2   average\n",
      "4  0.612034  60.042018  0.454583           3  Agglomerative        3  complete\n",
      "5  0.612034  60.042018  0.454583           3  Agglomerative        3   average\n",
      "8  0.496753  46.043679  0.552824           4  Agglomerative        4   average\n"
     ]
    }
   ],
   "source": [
    "linkages = ['ward','complete','average']  # note: ward requires Euclidean\n",
    "agg_results = []\n",
    "for k in range(2,11):\n",
    "    for link in linkages:\n",
    "        try:\n",
    "            ag = AgglomerativeClustering(n_clusters=k, linkage=link)\n",
    "            labels = ag.fit_predict(X_pre)\n",
    "            scores = evaluate_labels(X_pre, labels)\n",
    "            scores.update({'model':'Agglomerative','param_k':k,'linkage':link})\n",
    "            agg_results.append(scores)\n",
    "        except Exception as e:\n",
    "            pass\n",
    "agg_df = pd.DataFrame(agg_results).sort_values(by='sil',ascending=False)\n",
    "print(agg_df.head())"
   ]
  },
  {
   "cell_type": "markdown",
   "id": "191ab392",
   "metadata": {},
   "source": [
    "Model 3 - DBSCAN tuning (density-based)"
   ]
  },
  {
   "cell_type": "code",
   "execution_count": 340,
   "id": "2b8252a2",
   "metadata": {},
   "outputs": [
    {
     "name": "stdout",
     "output_type": "stream",
     "text": [
      "         sil          ch        db  n_clusters   model  eps  min_samples\n",
      "22  0.015149   42.498839  2.953678           3  DBSCAN  1.2            7\n",
      "21  0.012981   34.174491  3.314748           3  DBSCAN  1.2            5\n",
      "19 -0.019882  115.322017  1.941854           7  DBSCAN  1.0           10\n",
      "23 -0.020734   51.270229  2.706612           3  DBSCAN  1.2           10\n",
      "17 -0.046142   43.376339  2.010373           6  DBSCAN  1.0            5\n"
     ]
    }
   ],
   "source": [
    "eps_values = [0.3,0.4,0.5,0.6,0.8,1.0,1.2]  # scaled feature space — experiment\n",
    "min_samples_values = [3,5,7,10]\n",
    "\n",
    "db_results = []\n",
    "for eps, ms in itertools.product(eps_values, min_samples_values):\n",
    "    db = DBSCAN(eps=eps, min_samples=ms)\n",
    "    labels = db.fit_predict(X_pre)\n",
    "    if len(set(labels)) <= 1:\n",
    "        continue\n",
    "    scores = evaluate_labels(X_pre, labels)\n",
    "    scores.update({'model':'DBSCAN','eps':eps,'min_samples':ms})\n",
    "    db_results.append(scores)\n",
    "db_df = pd.DataFrame(db_results).sort_values(by='sil', ascending=False)\n",
    "print(db_df.head())"
   ]
  },
  {
   "cell_type": "markdown",
   "id": "75aa7eb6",
   "metadata": {},
   "source": [
    "Model 4 - GMM tuning (soft clustering)"
   ]
  },
  {
   "cell_type": "code",
   "execution_count": 341,
   "id": "4d582eec",
   "metadata": {},
   "outputs": [
    {
     "name": "stdout",
     "output_type": "stream",
     "text": [
      "        sil           ch        db  n_clusters model  param_k        cov\n",
      "1  0.320012  1119.076371  1.305732           2   GMM        2       tied\n",
      "0  0.306976  1060.807564  1.335778           2   GMM        2       full\n",
      "3  0.303675  1041.612654  1.315289           2   GMM        2  spherical\n",
      "4  0.298094   549.521194  1.321589           3   GMM        3       full\n",
      "2  0.260663   873.939419  1.348304           2   GMM        2       diag\n"
     ]
    }
   ],
   "source": [
    "gmm_results = []\n",
    "for k in range(2,11):\n",
    "    for cov in ['full','tied','diag','spherical']:\n",
    "        try:\n",
    "            gmm = GaussianMixture(n_components=k, covariance_type=cov, random_state=42)\n",
    "            labels = gmm.fit_predict(X_pre)\n",
    "            scores = evaluate_labels(X_pre, labels)\n",
    "            scores.update({'model':'GMM','param_k':k,'cov':cov})\n",
    "            gmm_results.append(scores)\n",
    "        except Exception as e:\n",
    "            pass\n",
    "gmm_df = pd.DataFrame(gmm_results).sort_values(by='sil', ascending=False)\n",
    "print(gmm_df.head())"
   ]
  },
  {
   "cell_type": "markdown",
   "id": "8b39e66c",
   "metadata": {},
   "source": [
    "Model Comparison & Select Best"
   ]
  },
  {
   "cell_type": "code",
   "execution_count": 342,
   "id": "1218b8d5",
   "metadata": {},
   "outputs": [
    {
     "name": "stdout",
     "output_type": "stream",
     "text": [
      "        sil           ch        db  n_clusters          model  param_k  \\\n",
      "0  0.859112    88.977865  0.101634           2  Agglomerative      2.0   \n",
      "1  0.859112    88.977865  0.101634           2  Agglomerative      2.0   \n",
      "2  0.612034    60.042018  0.454583           3  Agglomerative      3.0   \n",
      "3  0.321147  1139.980207  1.292238           2         KMeans      2.0   \n",
      "4  0.320012  1119.076371  1.305732           2            GMM      2.0   \n",
      "5  0.306976  1060.807564  1.335778           2            GMM      2.0   \n",
      "6  0.303675  1041.612654  1.315289           2            GMM      2.0   \n",
      "7  0.263492   794.251881  1.673930           3         KMeans      3.0   \n",
      "8  0.194340   661.024731  1.756590           4         KMeans      4.0   \n",
      "9  0.015149    42.498839  2.953678           3         DBSCAN      NaN   \n",
      "\n",
      "    linkage  eps  min_samples        cov  \n",
      "0  complete  NaN          NaN        NaN  \n",
      "1   average  NaN          NaN        NaN  \n",
      "2  complete  NaN          NaN        NaN  \n",
      "3       NaN  NaN          NaN        NaN  \n",
      "4       NaN  NaN          NaN       tied  \n",
      "5       NaN  NaN          NaN       full  \n",
      "6       NaN  NaN          NaN  spherical  \n",
      "7       NaN  NaN          NaN        NaN  \n",
      "8       NaN  NaN          NaN        NaN  \n",
      "9       NaN  1.2          7.0        NaN  \n"
     ]
    },
    {
     "data": {
      "text/plain": [
       "sil                 0.859112\n",
       "ch                 88.977865\n",
       "db                  0.101634\n",
       "n_clusters                 2\n",
       "model          Agglomerative\n",
       "param_k                  2.0\n",
       "linkage             complete\n",
       "eps                      NaN\n",
       "min_samples              NaN\n",
       "cov                      NaN\n",
       "Name: 0, dtype: object"
      ]
     },
     "execution_count": 342,
     "metadata": {},
     "output_type": "execute_result"
    }
   ],
   "source": [
    "# collect top result from each model type\n",
    "candidates = pd.concat([\n",
    "    kmeans_df.head(3),\n",
    "    agg_df.head(3),\n",
    "    db_df.head(3),\n",
    "    gmm_df.head(3)\n",
    "], ignore_index=True, sort=False)\n",
    "\n",
    "# sort by silhouette primarily, then CH\n",
    "candidates_sorted = candidates.sort_values(by=['sil','ch'], ascending=[False,False]).reset_index(drop=True)\n",
    "print(candidates_sorted.head(10))\n",
    "\n",
    "# Choose best by silhouette (tie-breaker: CH vs DB)\n",
    "best_model_row = candidates_sorted.iloc[0]\n",
    "best_model_row"
   ]
  },
  {
   "cell_type": "markdown",
   "id": "71db6ac9",
   "metadata": {},
   "source": [
    "Best model = Agglomerative"
   ]
  },
  {
   "cell_type": "markdown",
   "id": "b365f37e",
   "metadata": {},
   "source": [
    "MODEL EVOLUTION (KMeans, Agglomerative, DBSCAN, GMM)"
   ]
  },
  {
   "cell_type": "code",
   "execution_count": 343,
   "id": "319db5e2",
   "metadata": {},
   "outputs": [],
   "source": [
    "import warnings, re\n",
    "from sklearn.decomposition import PCA"
   ]
  },
  {
   "cell_type": "code",
   "execution_count": 344,
   "id": "053e2a0b",
   "metadata": {},
   "outputs": [],
   "source": [
    "warnings.filterwarnings(\"ignore\")\n",
    "sns.set(style=\"whitegrid\")"
   ]
  },
  {
   "cell_type": "code",
   "execution_count": 345,
   "id": "aa55d1e5",
   "metadata": {},
   "outputs": [],
   "source": [
    "# ----------1 Define grids for each model ----------\n",
    "grid = {\n",
    "    \"KMeans\": {\"n_clusters\": list(range(2, 8))},\n",
    "    \"Agglomerative\": {\"n_clusters\": list(range(2, 8))},\n",
    "    \"DBSCAN\": {\"eps\": [0.4, 0.6, 0.8, 1.0], \"min_samples\": [3, 5]},\n",
    "    \"GMM\": {\"n_components\": list(range(2, 8))}\n",
    "}"
   ]
  },
  {
   "cell_type": "code",
   "execution_count": 346,
   "id": "d0a7ad47",
   "metadata": {},
   "outputs": [],
   "source": [
    "# ---------- 2 Helper: safe scoring ----------\n",
    "def safe_scores(X, labels):\n",
    "    \"\"\"Compute silhouette, Calinski–Harabasz, Davies–Bouldin safely\"\"\"\n",
    "    out = {\"n_clusters\": np.nan, \"silhouette\": np.nan,\n",
    "           \"calinski_harabasz\": np.nan, \"davies_bouldin\": np.nan}\n",
    "    labels = np.asarray(labels)\n",
    "    uniq = np.unique(labels)\n",
    "    n_clusters = len(uniq[uniq != -1]) if -1 in uniq else len(uniq)\n",
    "    out[\"n_clusters\"] = n_clusters\n",
    "    if n_clusters <= 1:  # metrics invalid\n",
    "        return out\n",
    "    mask = labels != -1\n",
    "    X_use, y_use = X[mask], labels[mask]\n",
    "    try: out[\"silhouette\"] = silhouette_score(X_use, y_use)\n",
    "    except: pass\n",
    "    try: out[\"calinski_harabasz\"] = calinski_harabasz_score(X_use, y_use)\n",
    "    except: pass\n",
    "    try: out[\"davies_bouldin\"] = davies_bouldin_score(X_use, y_use)\n",
    "    except: pass\n",
    "    return out"
   ]
  },
  {
   "cell_type": "code",
   "execution_count": 347,
   "id": "f0280c21",
   "metadata": {},
   "outputs": [],
   "source": [
    "# ---------- 3 Run evolution ----------\n",
    "evolution, labels_dict = [], {}\n",
    "run_id = 0"
   ]
  },
  {
   "cell_type": "code",
   "execution_count": 348,
   "id": "287f2535",
   "metadata": {},
   "outputs": [],
   "source": [
    "# KMeans\n",
    "for k in grid[\"KMeans\"][\"n_clusters\"]:\n",
    "    km = KMeans(n_clusters=k, random_state=42)\n",
    "    labels = km.fit_predict(X_pre)\n",
    "    metrics = safe_scores(X_pre, labels)\n",
    "    run_id += 1\n",
    "    evolution.append({\"id\": run_id, \"model\": \"KMeans\", \"params\": f\"k={k}\", **metrics})\n",
    "    labels_dict[run_id] = labels"
   ]
  },
  {
   "cell_type": "code",
   "execution_count": 349,
   "id": "ca4ab781",
   "metadata": {},
   "outputs": [],
   "source": [
    "# Agglomerative\n",
    "for k in grid[\"Agglomerative\"][\"n_clusters\"]:\n",
    "    agg = AgglomerativeClustering(n_clusters=k)\n",
    "    labels = agg.fit_predict(X_pre)\n",
    "    metrics = safe_scores(X_pre, labels)\n",
    "    run_id += 1\n",
    "    evolution.append({\"id\": run_id, \"model\": \"Agglomerative\", \"params\": f\"k={k}\", **metrics})\n",
    "    labels_dict[run_id] = labels"
   ]
  },
  {
   "cell_type": "code",
   "execution_count": 350,
   "id": "cd8cc155",
   "metadata": {},
   "outputs": [],
   "source": [
    "# DBSCAN\n",
    "for eps in grid[\"DBSCAN\"][\"eps\"]:\n",
    "    for ms in grid[\"DBSCAN\"][\"min_samples\"]:\n",
    "        db = DBSCAN(eps=eps, min_samples=ms)\n",
    "        labels = db.fit_predict(X_pre)\n",
    "        metrics = safe_scores(X_pre, labels)\n",
    "        run_id += 1\n",
    "        evolution.append({\"id\": run_id, \"model\": \"DBSCAN\", \"params\": f\"eps={eps},min_samples={ms}\", **metrics})\n",
    "        labels_dict[run_id] = labels"
   ]
  },
  {
   "cell_type": "code",
   "execution_count": 351,
   "id": "a05cde12",
   "metadata": {},
   "outputs": [],
   "source": [
    "# GMM\n",
    "for k in grid[\"GMM\"][\"n_components\"]:\n",
    "    gmm = GaussianMixture(n_components=k, random_state=42)\n",
    "    labels = gmm.fit_predict(X_pre)\n",
    "    metrics = safe_scores(X_pre, labels)\n",
    "    run_id += 1\n",
    "    evolution.append({\"id\": run_id, \"model\": \"GMM\", \"params\": f\"k={k}\", **metrics})\n",
    "    labels_dict[run_id] = labels\n",
    "\n",
    "evo_df = pd.DataFrame(evolution)"
   ]
  },
  {
   "cell_type": "code",
   "execution_count": 352,
   "id": "e55dde00",
   "metadata": {},
   "outputs": [
    {
     "name": "stdout",
     "output_type": "stream",
     "text": [
      " ✅ Chosen best run id: 1\n",
      "    model: KMeans\n",
      "    params: k=2\n",
      "    silhouette: 0.320518825418954\n"
     ]
    }
   ],
   "source": [
    "# ---------- 4 Pick best model ----------\n",
    "# Assumes evo_df and labels_dict exist from the evolution run\n",
    "\n",
    "# Try to pick the best KMeans by silhouette first\n",
    "kmeans_rows = evo_df[evo_df[\"model\"] == \"KMeans\"].dropna(subset=[\"silhouette\"])\n",
    "if not kmeans_rows.empty:\n",
    "    # take the KMeans row with highest silhouette\n",
    "    best_row = kmeans_rows.loc[kmeans_rows[\"silhouette\"].idxmax()]\n",
    "else:\n",
    "    # fallback to previous logic: best overall by silhouette, otherwise CH score\n",
    "    valid = evo_df.dropna(subset=[\"silhouette\"])\n",
    "    if not valid.empty:\n",
    "        best_row = valid.loc[valid[\"silhouette\"].idxmax()]\n",
    "    else:\n",
    "        best_row = evo_df.loc[evo_df[\"calinski_harabasz\"].idxmax()]\n",
    "\n",
    "# Extract identifying info\n",
    "best_id = int(best_row[\"id\"])\n",
    "best_model = best_row[\"model\"]\n",
    "best_params = best_row.get(\"params\", \"\")\n",
    "best_silhouette = best_row.get(\"silhouette\", np.nan)\n",
    "\n",
    "print(f\" ✅ Chosen best run id: {best_id}\")\n",
    "print(f\"    model: {best_model}\")\n",
    "print(f\"    params: {best_params}\")\n",
    "print(f\"    silhouette: {best_silhouette}\")\n"
   ]
  },
  {
   "cell_type": "code",
   "execution_count": 353,
   "id": "ff61261b",
   "metadata": {},
   "outputs": [
    {
     "name": "stdout",
     "output_type": "stream",
     "text": [
      "Saved KMeans model with k = 2\n"
     ]
    }
   ],
   "source": [
    "import joblib\n",
    "from sklearn.cluster import KMeans\n",
    "# If the best was KMeans, get its parameters (adjust if your evo_df stores params differently)\n",
    "if best_model == \"KMeans\":\n",
    "    # try to retrieve param_k if you stored it (some cells store param_k as 'param_k' or similar)\n",
    "    if 'param_k' in best_row.index:\n",
    "        best_k = int(best_row['param_k'])\n",
    "    else:\n",
    "        # try a simple parse fallback if params string contains \"k=4\"\n",
    "        import re\n",
    "        m = re.search(r'k\\s*=\\s*(\\d+)', str(best_params))\n",
    "        best_k = int(m.group(1)) if m else None\n",
    "\n",
    "    if best_k is not None:\n",
    "        final_model = KMeans(n_clusters=best_k, random_state=42, n_init=20).fit(X_pre)\n",
    "        joblib.dump(final_model, 'best_kmeans_model.joblib')\n",
    "        print(\"Saved KMeans model with k =\", best_k)\n",
    "    else:\n",
    "        print(\"Could not determine best_k from best_row; please inspect best_params:\", best_params)\n",
    "else:\n",
    "    print(\"Best model is not KMeans (it's:\", best_model, \")\")\n"
   ]
  },
  {
   "cell_type": "code",
   "execution_count": 354,
   "id": "fd6ef6c8",
   "metadata": {},
   "outputs": [
    {
     "name": "stdout",
     "output_type": "stream",
     "text": [
      "best_model: KMeans\n",
      "best_id: 1\n",
      "Cluster sizes:\n",
      " 0    1161\n",
      "1    1055\n",
      "Name: count, dtype: int64\n",
      "silhouette score: 0.3205188254190472\n"
     ]
    },
    {
     "data": {
      "text/html": [
       "<div>\n",
       "<style scoped>\n",
       "    .dataframe tbody tr th:only-of-type {\n",
       "        vertical-align: middle;\n",
       "    }\n",
       "\n",
       "    .dataframe tbody tr th {\n",
       "        vertical-align: top;\n",
       "    }\n",
       "\n",
       "    .dataframe thead th {\n",
       "        text-align: right;\n",
       "    }\n",
       "</style>\n",
       "<table border=\"1\" class=\"dataframe\">\n",
       "  <thead>\n",
       "    <tr style=\"text-align: right;\">\n",
       "      <th></th>\n",
       "      <th>ID</th>\n",
       "      <th>Year_Birth</th>\n",
       "      <th>Income</th>\n",
       "      <th>Kidhome</th>\n",
       "      <th>Teenhome</th>\n",
       "      <th>Recency</th>\n",
       "      <th>MntWines</th>\n",
       "      <th>MntFruits</th>\n",
       "      <th>MntMeatProducts</th>\n",
       "      <th>MntFishProducts</th>\n",
       "      <th>...</th>\n",
       "      <th>AcceptedCmp2</th>\n",
       "      <th>Complain</th>\n",
       "      <th>Z_CostContact</th>\n",
       "      <th>Z_Revenue</th>\n",
       "      <th>Response</th>\n",
       "      <th>Age</th>\n",
       "      <th>Total_Children</th>\n",
       "      <th>Total_Spending</th>\n",
       "      <th>Customer_Since</th>\n",
       "      <th>AcceptedAny</th>\n",
       "    </tr>\n",
       "    <tr>\n",
       "      <th>Cluster</th>\n",
       "      <th></th>\n",
       "      <th></th>\n",
       "      <th></th>\n",
       "      <th></th>\n",
       "      <th></th>\n",
       "      <th></th>\n",
       "      <th></th>\n",
       "      <th></th>\n",
       "      <th></th>\n",
       "      <th></th>\n",
       "      <th></th>\n",
       "      <th></th>\n",
       "      <th></th>\n",
       "      <th></th>\n",
       "      <th></th>\n",
       "      <th></th>\n",
       "      <th></th>\n",
       "      <th></th>\n",
       "      <th></th>\n",
       "      <th></th>\n",
       "      <th></th>\n",
       "    </tr>\n",
       "  </thead>\n",
       "  <tbody>\n",
       "    <tr>\n",
       "      <th>0</th>\n",
       "      <td>5606.700</td>\n",
       "      <td>1970.914</td>\n",
       "      <td>35752.871</td>\n",
       "      <td>0.742</td>\n",
       "      <td>0.499</td>\n",
       "      <td>48.659</td>\n",
       "      <td>65.496</td>\n",
       "      <td>5.910</td>\n",
       "      <td>31.795</td>\n",
       "      <td>8.923</td>\n",
       "      <td>...</td>\n",
       "      <td>0.003</td>\n",
       "      <td>0.011</td>\n",
       "      <td>3.0</td>\n",
       "      <td>11.0</td>\n",
       "      <td>0.103</td>\n",
       "      <td>54.086</td>\n",
       "      <td>1.241</td>\n",
       "      <td>118.021</td>\n",
       "      <td>4471.774</td>\n",
       "      <td>0.165</td>\n",
       "    </tr>\n",
       "    <tr>\n",
       "      <th>1</th>\n",
       "      <td>5568.163</td>\n",
       "      <td>1966.517</td>\n",
       "      <td>70398.887</td>\n",
       "      <td>0.111</td>\n",
       "      <td>0.513</td>\n",
       "      <td>49.402</td>\n",
       "      <td>568.760</td>\n",
       "      <td>48.857</td>\n",
       "      <td>315.781</td>\n",
       "      <td>69.237</td>\n",
       "      <td>...</td>\n",
       "      <td>0.026</td>\n",
       "      <td>0.008</td>\n",
       "      <td>3.0</td>\n",
       "      <td>11.0</td>\n",
       "      <td>0.202</td>\n",
       "      <td>58.483</td>\n",
       "      <td>0.624</td>\n",
       "      <td>1052.919</td>\n",
       "      <td>4500.649</td>\n",
       "      <td>0.392</td>\n",
       "    </tr>\n",
       "  </tbody>\n",
       "</table>\n",
       "<p>2 rows × 31 columns</p>\n",
       "</div>"
      ],
      "text/plain": [
       "               ID  Year_Birth     Income  Kidhome  Teenhome  Recency  \\\n",
       "Cluster                                                                \n",
       "0        5606.700    1970.914  35752.871    0.742     0.499   48.659   \n",
       "1        5568.163    1966.517  70398.887    0.111     0.513   49.402   \n",
       "\n",
       "         MntWines  MntFruits  MntMeatProducts  MntFishProducts  ...  \\\n",
       "Cluster                                                         ...   \n",
       "0          65.496      5.910           31.795            8.923  ...   \n",
       "1         568.760     48.857          315.781           69.237  ...   \n",
       "\n",
       "         AcceptedCmp2  Complain  Z_CostContact  Z_Revenue  Response     Age  \\\n",
       "Cluster                                                                       \n",
       "0               0.003     0.011            3.0       11.0     0.103  54.086   \n",
       "1               0.026     0.008            3.0       11.0     0.202  58.483   \n",
       "\n",
       "         Total_Children  Total_Spending  Customer_Since  AcceptedAny  \n",
       "Cluster                                                               \n",
       "0                 1.241         118.021        4471.774        0.165  \n",
       "1                 0.624        1052.919        4500.649        0.392  \n",
       "\n",
       "[2 rows x 31 columns]"
      ]
     },
     "execution_count": 354,
     "metadata": {},
     "output_type": "execute_result"
    }
   ],
   "source": [
    "print(\"best_model:\", best_model)\n",
    "print(\"best_id:\", best_id)\n",
    "print(\"Cluster sizes:\\n\", pd.Series(labels_dict[best_id]).value_counts().sort_index())\n",
    "# silhouette of chosen labels on X_pre\n",
    "from sklearn.metrics import silhouette_score\n",
    "print(\"silhouette score:\", silhouette_score(X_pre, labels_dict[best_id]))\n",
    "# show cluster profile\n",
    "df['Cluster'] = labels_dict[best_id]\n",
    "# Compute cluster means only on numeric columns\n",
    "df.groupby('Cluster').mean(numeric_only=True).round(3)\n",
    "\n"
   ]
  },
  {
   "cell_type": "code",
   "execution_count": 355,
   "id": "956e4918",
   "metadata": {},
   "outputs": [
    {
     "name": "stdout",
     "output_type": "stream",
     "text": [
      "✅ Model and scaler saved successfully!\n"
     ]
    }
   ],
   "source": [
    "import joblib\n",
    "# Save the trained model\n",
    "joblib.dump(best_model, \"model_kmeans.pkl\")\n",
    "\n",
    "# Save the scaler (only if you used one)\n",
    "joblib.dump(scaler, \"scaler_kmeans.pkl\")\n",
    "\n",
    "print(\"✅ Model and scaler saved successfully!\")\n"
   ]
  }
 ],
 "metadata": {
  "kernelspec": {
   "display_name": "base",
   "language": "python",
   "name": "python3"
  },
  "language_info": {
   "codemirror_mode": {
    "name": "ipython",
    "version": 3
   },
   "file_extension": ".py",
   "mimetype": "text/x-python",
   "name": "python",
   "nbconvert_exporter": "python",
   "pygments_lexer": "ipython3",
   "version": "3.13.5"
  }
 },
 "nbformat": 4,
 "nbformat_minor": 5
}
